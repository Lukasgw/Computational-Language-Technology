{
  "nbformat": 4,
  "nbformat_minor": 0,
  "metadata": {
    "colab": {
      "name": "Exercise_2_Lukas_GrosseWestermann.ipynb",
      "provenance": [],
      "toc_visible": true,
      "collapsed_sections": []
    },
    "kernelspec": {
      "name": "python3",
      "display_name": "Python 3"
    },
    "language_info": {
      "name": "python"
    }
  },
  "cells": [
    {
      "cell_type": "markdown",
      "source": [
        "**Name:** Lukas Große Westermann  \n",
        "**Exercise:** 2  \n",
        "**Subject**: Computational Language Technologies"
      ],
      "metadata": {
        "id": "OcwVthfFX-Rb"
      }
    },
    {
      "cell_type": "markdown",
      "source": [
        "In the following the Wikipedia article of Albert einstein is scraped from wikipedia. This serves as input data, which is used to train our word2vec model."
      ],
      "metadata": {
        "id": "mU40r19McT9T"
      }
    },
    {
      "cell_type": "markdown",
      "source": [
        "# Setup"
      ],
      "metadata": {
        "id": "mM5NBfCZYJOi"
      }
    },
    {
      "cell_type": "code",
      "source": [
        "!pip install wikipedia-api"
      ],
      "metadata": {
        "colab": {
          "base_uri": "https://localhost:8080/"
        },
        "id": "TAn7ZKBHX9WA",
        "outputId": "0aee8271-32a2-4315-a6cf-7ce60d3a1843"
      },
      "execution_count": null,
      "outputs": [
        {
          "output_type": "stream",
          "name": "stdout",
          "text": [
            "Requirement already satisfied: wikipedia-api in /usr/local/lib/python3.7/dist-packages (0.5.4)\n",
            "Requirement already satisfied: requests in /usr/local/lib/python3.7/dist-packages (from wikipedia-api) (2.23.0)\n",
            "Requirement already satisfied: idna<3,>=2.5 in /usr/local/lib/python3.7/dist-packages (from requests->wikipedia-api) (2.10)\n",
            "Requirement already satisfied: urllib3!=1.25.0,!=1.25.1,<1.26,>=1.21.1 in /usr/local/lib/python3.7/dist-packages (from requests->wikipedia-api) (1.24.3)\n",
            "Requirement already satisfied: certifi>=2017.4.17 in /usr/local/lib/python3.7/dist-packages (from requests->wikipedia-api) (2021.10.8)\n",
            "Requirement already satisfied: chardet<4,>=3.0.2 in /usr/local/lib/python3.7/dist-packages (from requests->wikipedia-api) (3.0.4)\n"
          ]
        }
      ]
    },
    {
      "cell_type": "code",
      "source": [
        "#Import of required modules\n",
        "import wikipediaapi as wapi\n",
        "import pandas as pd\n",
        "from nltk.corpus import stopwords\n",
        "import spacy\n",
        "import numpy as np\n",
        "from sklearn.manifold import TSNE\n",
        "import gensim.downloader as api\n",
        "from collections import Counter\n",
        "import sys\n",
        "import matplotlib.pyplot as plt \n",
        "import nltk\n",
        "nltk.download('punkt')\n",
        "nltk.download('stopwords')"
      ],
      "metadata": {
        "id": "wOtdZt1SX9fW",
        "colab": {
          "base_uri": "https://localhost:8080/"
        },
        "outputId": "8f994a41-910c-4fae-c7ba-60593fdd257c"
      },
      "execution_count": null,
      "outputs": [
        {
          "output_type": "stream",
          "name": "stdout",
          "text": [
            "[nltk_data] Downloading package punkt to /root/nltk_data...\n",
            "[nltk_data]   Package punkt is already up-to-date!\n",
            "[nltk_data] Downloading package stopwords to /root/nltk_data...\n",
            "[nltk_data]   Package stopwords is already up-to-date!\n"
          ]
        },
        {
          "output_type": "execute_result",
          "data": {
            "text/plain": [
              "True"
            ]
          },
          "metadata": {},
          "execution_count": 32
        }
      ]
    },
    {
      "cell_type": "markdown",
      "source": [
        "# Data"
      ],
      "metadata": {
        "id": "tuQNkx1_Yk-E"
      }
    },
    {
      "cell_type": "markdown",
      "source": [
        "For the following task, the wikipedia api was used again. The Wikipedia article of Albert Einstein is downloaded and used for the following tasks."
      ],
      "metadata": {
        "id": "UGOfyy87_qJ7"
      }
    },
    {
      "cell_type": "code",
      "source": [
        "#Setting the language and the article\n",
        "wiki = wapi.Wikipedia('en')\n",
        "page_ab = wiki.page('Albert Einstein')"
      ],
      "metadata": {
        "id": "mKE6gE_cYns8"
      },
      "execution_count": null,
      "outputs": []
    },
    {
      "cell_type": "code",
      "source": [
        "#first test\n",
        "text = [page_ab.text]\n",
        "text[:100]"
      ],
      "metadata": {
        "id": "_AlhPlFGYn37",
        "colab": {
          "base_uri": "https://localhost:8080/"
        },
        "outputId": "3d109811-a9d1-4638-b8a2-96086de4446b"
      },
      "execution_count": null,
      "outputs": [
        {
          "output_type": "execute_result",
          "data": {
            "text/plain": [
              "['Albert Einstein ( EYEN-styne; German: [ˈalbɛʁt ˈʔaɪnʃtaɪn] (listen); 14 March 1879 – 18 April 1955) was a German-born theoretical physicist, widely acknowledged to be one of the greatest physicists of all time. Einstein is best known for developing the theory of relativity, but he also made important contributions to the development of the theory of quantum mechanics. Relativity and quantum mechanics are together the two pillars of modern physics. His mass–energy equivalence formula E = mc2, which arises from relativity theory, has been dubbed \"the world\\'s most famous equation\". His work is also known for its influence on the philosophy of science. He received the 1921 Nobel Prize in Physics \"for his services to theoretical physics, and especially for his discovery of the law of the photoelectric effect\", a pivotal step in the development of quantum theory. His intellectual achievements and originality resulted in \"Einstein\" becoming synonymous with \"genius\".In 1905, a year sometimes described as his annus mirabilis (\\'miracle year\\'), Einstein published four groundbreaking papers. These outlined the theory of the photoelectric effect, explained Brownian motion, introduced special relativity, and demonstrated mass-energy equivalence. Einstein thought that the laws of classical mechanics could no longer be reconciled with those of the electromagnetic field, which led him to develop his special theory of relativity. He then extended the theory to gravitational fields; he published a paper on general relativity in 1916, introducing his theory of gravitation. In 1917, he applied the general theory of relativity to model the structure of the universe. He continued to deal with problems of statistical mechanics and quantum theory, which led to his explanations of particle theory and the motion of molecules. He also investigated the thermal properties of light and the quantum theory of radiation, which laid the foundation of the photon theory of light. \\nHowever, for much of the later part of his career, he worked on two ultimately unsuccessful endeavors. First, despite his great contributions to quantum mechanics, he opposed what it evolved into, objecting that nature \"does not play dice\". Second, he attempted to devise a unified field theory by generalizing his geometric theory of gravitation to include electromagnetism. As a result, he became increasingly isolated from the mainstream of modern physics.\\nEinstein was born in the German Empire, but moved to Switzerland in 1895, forsaking his German citizenship (as a subject of the Kingdom of Württemberg) the following year. In 1897, at the age of 17, he enrolled in the mathematics and physics teaching diploma program at the Swiss Federal polytechnic school in Zürich, graduating in 1900. In 1901, he acquired Swiss citizenship, which he kept for the rest of his life, and in 1903 he secured a permanent position at the Swiss Patent Office in Bern. In 1905, he was awarded a PhD by the University of Zurich. In 1914, Einstein moved to Berlin in order to join the Prussian Academy of Sciences and the Humboldt University of Berlin. In 1917, Einstein became director of the Kaiser Wilhelm Institute for Physics; he also became a German citizen again, this time Prussian.\\nIn 1933, while Einstein was visiting the United States, Adolf Hitler came to power in Germany. Einstein, of Jewish origin, objected to the policies of the newly elected Nazi government; he settled in the United States and became an American citizen in 1940. On the eve of World War II, he endorsed a letter to President Franklin D. Roosevelt alerting him to the potential German nuclear weapons program and recommending that the US begin similar research. Einstein supported the Allies but generally denounced the idea of nuclear weapons.\\n\\nLife and career\\nEarly life and education\\nAlbert Einstein was born in Ulm, in the Kingdom of Württemberg in the German Empire, on 14 March 1879 into a family of secular Ashkenazi Jews. His parents were Hermann Einstein, a salesman and engineer, and Pauline Koch. In 1880, the family moved to Munich, where Einstein\\'s father and his uncle Jakob founded Elektrotechnische Fabrik J. Einstein & Cie, a company that manufactured electrical equipment based on direct current.Albert attended a Catholic elementary school in Munich, from the age of five, for three years. At the age of eight, he was transferred to the Luitpold Gymnasium (now known as the Albert Einstein Gymnasium), where he received advanced primary and secondary school education until he left the German Empire seven years later.In 1894, Hermann and Jakob\\'s company lost a bid to supply the city of Munich with electrical lighting because they lacked the capital to convert their equipment from the direct current (DC) standard to the more efficient alternating current (AC) standard. The loss forced the sale of the Munich factory. In search of business, the Einstein family moved to Italy, first to Milan and a few months later to Pavia. When the family moved to Pavia, Einstein, then 15, stayed in Munich to finish his studies at the Luitpold Gymnasium. His father intended for him to pursue electrical engineering, but Einstein clashed with the authorities and resented the school\\'s regimen and teaching method. He later wrote that the spirit of learning and creative thought was lost in strict rote learning. At the end of December 1894, he traveled to Italy to join his family in Pavia, convincing the school to let him go by using a doctor\\'s note. During his time in Italy he wrote a short essay with the title \"On the Investigation of the State of the Ether in a Magnetic Field\".Einstein excelled at math and physics from a young age, reaching a mathematical level years ahead of his peers. The 12-year-old Einstein taught himself algebra and Euclidean geometry over a single summer. Einstein also independently discovered his own original proof of the Pythagorean theorem at age 12. A family tutor Max Talmud says that after he had given the 12-year-old Einstein a geometry textbook, after a short time \"[Einstein] had worked through the whole book. He thereupon devoted himself to higher mathematics... Soon the flight of his mathematical genius was so high I could not follow.\" His passion for geometry and algebra led the 12-year-old to become convinced that nature could be understood as a \"mathematical structure\". Einstein started teaching himself calculus at 12, and as a 14-year-old he says he had \"mastered integral and differential calculus\".At age 13, when he had become more seriously interested in philosophy (and music), Einstein was introduced to Kant\\'s Critique of Pure Reason. Kant became his favorite philosopher, his tutor stating: \"At the time he was still a child, only thirteen years old, yet Kant\\'s works, incomprehensible to ordinary mortals, seemed to be clear to him.\"\\n\\nIn 1895, at the age of 16, Einstein took the entrance examinations for the Swiss Federal polytechnic school in Zürich (later the Eidgenössische Technische Hochschule, ETH). He failed to reach the required standard in the general part of the examination, but obtained exceptional grades in physics and mathematics. On the advice of the principal of the polytechnic school, he attended the Argovian cantonal school (gymnasium) in Aarau, Switzerland, in 1895 and 1896 to complete his secondary schooling. While lodging with the family of Professor Jost Winteler, he fell in love with Winteler\\'s daughter, Marie. Albert\\'s sister Maja later married Winteler\\'s son Paul. In January 1896, with his father\\'s approval, Einstein renounced his citizenship in the German Kingdom of Württemberg to avoid military service. In September 1896 he passed the Swiss Matura with mostly good grades, including a top grade of 6 in physics and mathematical subjects, on a scale of 1–6. At 17, he enrolled in the four-year mathematics and physics teaching diploma program at the Federal polytechnic school. Marie Winteler, who was a year older, moved to Olsberg, Switzerland, for a teaching post.Einstein\\'s future wife, a 20-year-old Serbian named Mileva Marić, also enrolled at the polytechnic school that year. She was the only woman among the six students in the mathematics and physics section of the teaching diploma course. Over the next few years, Einstein\\'s and Marić\\'s friendship developed into a romance, and they spent countless hours debating and reading books together on extra-curricular physics in which they were both interested. Einstein wrote in his letters to Marić that he preferred studying alongside her. In 1900, Einstein passed the exams in Maths and Physics and was awarded a Federal teaching diploma. There is eyewitness evidence and several letters over many years that indicate Marić might have collaborated with Einstein prior to his landmark 1905 papers, known as the Annus Mirabilis papers, and that they developed some of the concepts together during their studies, although some historians of physics who have studied the issue disagree that she made any substantive contributions.\\n\\nMarriages and children\\nEarly correspondence between Einstein and Marić was discovered and published in 1987 which revealed that the couple had a daughter named \"Lieserl\", born in early 1902 in Novi Sad where Marić was staying with her parents. Marić returned to Switzerland without the child, whose real name and fate are unknown. The contents of Einstein\\'s letter in September 1903 suggest that the girl was either given up for adoption or died of scarlet fever in infancy.Einstein and Marić married in January 1903. In May 1904, their son Hans Albert Einstein was born in Bern, Switzerland. Their son Eduard was born in Zürich in July 1910. The couple moved to Berlin in April 1914, but Marić returned to Zürich with their sons after learning that, despite their close relationship before, Einstein\\'s chief romantic attraction was now his cousin Elsa Löwenthal; she was his first cousin maternally and second cousin paternally. Einstein and Marić divorced on 14 February 1919, having lived apart for five years. As part of the divorce settlement, Einstein agreed to give Marić his future (in the event, 1921) Nobel Prize money.In letters revealed in 2015, Einstein wrote to his early love Marie Winteler about his marriage and his strong feelings for her. He wrote in 1910, while his wife was pregnant with their second child: \"I think of you in heartfelt love every spare minute and am so unhappy as only a man can be.\" He spoke about a \"misguided love\" and a \"missed life\" regarding his love for Marie.Einstein married Löwenthal in 1919, after having had a relationship with her since 1912. They emigrated to the United States in 1933. Elsa was diagnosed with heart and kidney problems in 1935 and died in December 1936.In 1923, Einstein fell in love with a secretary named Betty Neumann, the niece of a close friend, Hans Mühsam. In a volume of letters released by Hebrew University of Jerusalem in 2006, Einstein described about six women, including Margarete Lebach (a blonde Austrian), Estella Katzenellenbogen (the rich owner of a florist business), Toni Mendel (a wealthy Jewish widow) and Ethel Michanowski (a Berlin socialite), with whom he spent time and from whom he received gifts while being married to Elsa. Later, after the death of his second wife Elsa, Einstein was briefly in a relationship with Margarita Konenkova. Konenkova was a Russian spy who was married to the noted Russian sculptor Sergei Konenkov (who created the bronze bust of Einstein at the Institute for Advanced Study at Princeton).Einstein\\'s son Eduard had a breakdown at about age 20 and was diagnosed with schizophrenia. His mother cared for him and he was also committed to asylums for several periods, finally being committed permanently after her death.\\n\\nPatent office\\nAfter graduating in 1900, Einstein spent almost two frustrating years searching for a teaching post. He acquired Swiss citizenship in February 1901, but was not conscripted for medical reasons. With the help of Marcel Grossmann\\'s father, he secured a job in Bern at the Swiss Patent Office, as an assistant examiner – level III.Einstein evaluated patent applications for a variety of devices including a gravel sorter and an electromechanical typewriter. In 1903, his position at the Swiss Patent Office became permanent, although he was passed over for promotion until he \"fully mastered machine technology\".Much of his work at the patent office related to questions about transmission of electric signals and electrical-mechanical synchronization of time, two technical problems that show up conspicuously in the thought experiments that eventually led Einstein to his radical conclusions about the nature of light and the fundamental connection between space and time.\\n\\nWith a few friends he had met in Bern, Einstein started a small discussion group in 1902, self-mockingly named \"The Olympia Academy\", which met regularly to discuss science and philosophy. Sometimes they were joined by Mileva who attentively listened but did not participate. Their readings included the works of Henri Poincaré, Ernst Mach, and David Hume, which influenced his scientific and philosophical outlook.\\n\\nFirst scientific papers\\nIn 1900, Einstein\\'s paper \"Folgerungen aus den Capillaritätserscheinungen\" (\"Conclusions from the Capillarity Phenomena\") was published in the journal Annalen der Physik. On 30 April 1905, Einstein completed his dissertation, A New Determination of Molecular Dimensions with Alfred Kleiner, Professor of Experimental Physics at the University of Zürich, serving as pro-forma advisor. His work was accepted in July, and Einstein was awarded a Ph.D.Also in 1905, which has been called Einstein\\'s annus mirabilis (amazing year), he published four groundbreaking papers, on the photoelectric effect, Brownian motion, special relativity, and the equivalence of mass and energy, which were to bring him to the notice of the academic world, at the age of 26.\\n\\nAcademic career\\nBy 1908, he was recognized as a leading scientist and was appointed lecturer at the University of Bern. The following year, after he gave a lecture on electrodynamics and the relativity principle at the University of Zurich, Alfred Kleiner recommended him to the faculty for a newly created professorship in theoretical physics. Einstein was appointed associate professor in 1909.Einstein became a full professor at the German Charles-Ferdinand University in Prague in April 1911, accepting Austrian citizenship in the Austro-Hungarian Empire to do so. During his Prague stay, he wrote 11 scientific works, five of them on radiation mathematics and on the quantum theory of solids. \\nIn July 1912, he returned to his alma mater in Zürich. From 1912 until 1914, he was a professor of theoretical physics at the ETH Zurich, where he taught analytical mechanics and thermodynamics. He also studied continuum mechanics, the molecular theory of heat, and the problem of gravitation, on which he worked with mathematician and friend Marcel Grossmann.When the \"Manifesto of the Ninety-Three\" was published in October 1914—a document signed by a host of prominent German intellectuals that justified Germany\\'s militarism and position during the First World War—Einstein was one of the few German intellectuals to rebut its contents and sign the pacifistic \"Manifesto to the Europeans\".\\n\\nIn the spring of 1913, Einstein was enticed to move to Berlin with an offer that included membership in the Prussian Academy of Sciences, and a linked University of Berlin professorship, enabling him to concentrate exclusively on research. On 3 July 1913, he became a member of the Prussian Academy of Sciences in Berlin. Max Planck and Walther Nernst visited him the next week in Zurich to persuade him to join the academy, additionally offering him the post of director at the Kaiser Wilhelm Institute for Physics, which was soon to be established. Membership in the academy included paid salary and professorship without teaching duties at Humboldt University of Berlin. He was officially elected to the academy on 24 July, and he moved to Berlin the following year. His decision to move to Berlin was also influenced by the prospect of living near his cousin Elsa, with whom he had started a romantic affair. Einstein assumed his position with the academy, and Berlin University, after moving into his Dahlem apartment on 1 April 1914. As World War I broke out that year, the plan for Kaiser Wilhelm Institute for Physics was aborted. The institute was established on 1 October 1917, with Einstein as its director. In 1916, Einstein was elected president of the German Physical Society (1916–1918).In 1911, Einstein used his 1907 Equivalence principle to calculate the deflection of light from another star by the Sun\\'s gravity. In 1913, Einstein improved upon those calculations by using Riemannian space-time to represent the gravity field. By the fall of 1915, Einstein had successfully completed his general theory of relativity, which he used to calculate that deflection, and the perihelion precession of Mercury. In 1919, that deflection prediction was confirmed by Sir Arthur Eddington during the solar eclipse of 29 May 1919. Those observations were published in the international media, making Einstein world-famous. On 7 November 1919, the leading British newspaper The Times printed a banner headline that read: \"Revolution in Science – New Theory of the Universe – Newtonian Ideas Overthrown\".In 1920, he became a Foreign Member of the Royal Netherlands Academy of Arts and Sciences. In 1922, he was awarded the 1921 Nobel Prize in Physics \"for his services to Theoretical Physics, and especially for his discovery of the law of the photoelectric effect\". While the general theory of relativity was still considered somewhat controversial, the citation also does not treat even the cited photoelectric work as an explanation but merely as a discovery of the law, as the idea of photons was considered outlandish and did not receive universal acceptance until the 1924 derivation of the Planck spectrum by S. N. Bose. Einstein was elected a Foreign Member of the Royal Society (ForMemRS) in 1921. He also received the Copley Medal from the Royal Society in 1925.Einstein resigned from the Prussian Academy in March 1933. Einstein\\'s scientific accomplishments while in Berlin, included finishing the general theory of relativity, proving the gyromagnetic effect, contributing to the quantum theory of radiation, and Bose–Einstein statistics.\\n\\n1921–1922: Travels abroad\\nEinstein visited New York City for the first time on 2 April 1921, where he received an official welcome by Mayor John Francis Hylan, followed by three weeks of lectures and receptions. He went on to deliver several lectures at Columbia University and Princeton University, and in Washington, he accompanied representatives of the National Academy of Sciences on a visit to the White House. On his return to Europe he was the guest of the British statesman and philosopher Viscount Haldane in London, where he met several renowned scientific, intellectual, and political figures, and delivered a lecture at King\\'s College London.He also published an essay, \"My First Impression of the U.S.A.\", in July 1921, in which he tried briefly to describe some characteristics of Americans, much as had Alexis de Tocqueville, who published his own impressions in Democracy in America (1835). For some of his observations, Einstein was clearly surprised: \"What strikes a visitor is the joyous, positive attitude to life ... The American is friendly, self-confident, optimistic, and without envy.\"In 1922, his travels took him to Asia and later to Palestine, as part of a six-month excursion and speaking tour, as he visited Singapore, Ceylon and Japan, where he gave a series of lectures to thousands of Japanese. After his first public lecture, he met the emperor and empress at the Imperial Palace, where thousands came to watch. In a letter to his sons, he described his impression of the Japanese as being modest, intelligent, considerate, and having a true feel for art. In his own travel diaries from his 1922–23 visit to Asia, he expresses some views on the Chinese, Japanese and Indian people, which have been described as xenophobic and racist judgments when they were rediscovered in 2018.Because of Einstein\\'s travels to the Far East, he was unable to personally accept the Nobel Prize for Physics at the Stockholm award ceremony in December 1922. In his place, the banquet speech was made by a German diplomat, who praised Einstein not only as a scientist but also as an international peacemaker and activist.On his return voyage, he visited Palestine for 12 days, his only visit to that region. He was greeted as if he were a head of state, rather than a physicist, which included a cannon salute upon arriving at the home of the British high commissioner, Sir Herbert Samuel. During one reception, the building was stormed by people who wanted to see and hear him. In Einstein\\'s talk to the audience, he expressed happiness that the Jewish people were beginning to be recognized as a force in the world.Einstein visited Spain for two weeks in 1923, where he briefly met Santiago Ramón y Cajal and also received a diploma from King Alfonso XIII naming him a member of the Spanish Academy of Sciences.\\n\\nFrom 1922 to 1932, Einstein was a member of the International Committee on Intellectual Cooperation of the League of Nations in Geneva (with a few months of interruption in 1923–1924), a body created to promote international exchange between scientists, researchers, teachers, artists, and intellectuals. Originally slated to serve as the Swiss delegate, Secretary-General Eric Drummond was persuaded by Catholic activists Oskar Halecki and Giuseppe Motta to instead have him become the German delegate, thus allowing Gonzague de Reynold to take the Swiss spot, from which he promoted traditionalist Catholic values. Einstein\\'s former physics professor Hendrik Lorentz and the Polish chemist Marie Curie were also members of the committee.\\n\\n1925: Visit to South America\\nIn the months of March and April 1925, Einstein visited South America, where he spent about a month in Argentina, a week in Uruguay, and a week in Rio de Janeiro, Brazil. Einstein\\'s visit was initiated by Jorge Duclout (1856–1927) and Mauricio Nirenstein (1877–1935) with the support of several Argentine scholars, including Julio Rey Pastor, Jakob Laub, and Leopoldo Lugones. The visit by Einstein and his wife was financed primarily by the Council of the University of Buenos Aires and the Asociación Hebraica Argentina (Argentine Hebraic Association) with a smaller contribution from the Argentine-Germanic Cultural Institution.\\n\\n1930–1931: Travel to the US\\nIn December 1930, Einstein visited America for the second time, originally intended as a two-month working visit as a research fellow at the California Institute of Technology. After the national attention, he received during his first trip to the US, he and his arrangers aimed to protect his privacy. Although swamped with telegrams and invitations to receive awards or speak publicly, he declined them all.After arriving in New York City, Einstein was taken to various places and events, including Chinatown, a lunch with the editors of The New York Times, and a performance of Carmen at the Metropolitan Opera, where he was cheered by the audience on his arrival. During the days following, he was given the keys to the city by Mayor Jimmy Walker and met the president of Columbia University, who described Einstein as \"the ruling monarch of the mind\". Harry Emerson Fosdick, pastor at New York\\'s Riverside Church, gave Einstein a tour of the church and showed him a full-size statue that the church made of Einstein, standing at the entrance. Also during his stay in New York, he joined a crowd of 15,000 people at Madison Square Garden during a Hanukkah celebration.\\n\\nEinstein next traveled to California, where he met Caltech president and Nobel laureate Robert A. Millikan. His friendship with Millikan was \"awkward\", as Millikan \"had a penchant for patriotic militarism\", where Einstein was a pronounced pacifist. During an address to Caltech\\'s students, Einstein noted that science was often inclined to do more harm than good.This aversion to war also led Einstein to befriend author Upton Sinclair and film star Charlie Chaplin, both noted for their pacifism. Carl Laemmle, head of Universal Studios, gave Einstein a tour of his studio and introduced him to Chaplin. They had an instant rapport, with Chaplin inviting Einstein and his wife, Elsa, to his home for dinner. Chaplin said Einstein\\'s outward persona, calm and gentle, seemed to conceal a \"highly emotional temperament\", from which came his \"extraordinary intellectual energy\".Chaplin\\'s film, City Lights, was to premiere a few days later in Hollywood, and Chaplin invited Einstein and Elsa to join him as his special guests. Walter Isaacson, Einstein\\'s biographer, described this as \"one of the most memorable scenes in the new era of celebrity\". Chaplin visited Einstein at his home on a later trip to Berlin and recalled his \"modest little flat\" and the piano at which he had begun writing his theory. Chaplin speculated that it was \"possibly used as kindling wood by the Nazis\".\\n\\n1933: Emigration to the US\\nIn February 1933, while on a visit to the United States, Einstein knew he could not return to Germany with the rise to power of the Nazis under Germany\\'s new chancellor, Adolf Hitler.While at American universities in early 1933, he undertook his third two-month visiting professorship at the California Institute of Technology in Pasadena. In February and March 1933, the Gestapo repeatedly raided his family\\'s apartment in Berlin. He and his wife Elsa returned to Europe in March, and during the trip, they learned that the German Reichstag had passed the Enabling Act on 23 March, transforming Hitler\\'s government into a de facto legal dictatorship, and that they would not be able to proceed to Berlin. Later on, they heard that their cottage had been raided by the Nazis and Einstein\\'s personal sailboat confiscated. Upon landing in Antwerp, Belgium on 28 March, Einstein immediately went to the German consulate and surrendered his passport, formally renouncing his German citizenship. The Nazis later sold his boat and converted his cottage into a Hitler Youth camp.\\n\\nRefugee status\\nIn April 1933, Einstein discovered that the new German government had passed laws barring Jews from holding any official positions, including teaching at universities. Historian Gerald Holton describes how, with \"virtually no audible protest being raised by their colleagues\", thousands of Jewish scientists were suddenly forced to give up their university positions and their names were removed from the rolls of institutions where they were employed.A month later, Einstein\\'s works were among those targeted by the German Student Union in the Nazi book burnings, with Nazi propaganda minister Joseph Goebbels proclaiming, \"Jewish intellectualism is dead.\" One German magazine included him in a list of enemies of the German regime with the phrase, \"not yet hanged\", offering a $5,000 bounty on his head. In a subsequent letter to physicist and friend Max Born, who had already emigrated from Germany to England, Einstein wrote, \"... I must confess that the degree of their brutality and cowardice came as something of a surprise.\" After moving to the US, he described the book burnings as a \"spontaneous emotional outburst\" by those who \"shun popular enlightenment\", and \"more than anything else in the world, fear the influence of men of intellectual independence\".Einstein was now without a permanent home, unsure where he would live and work, and equally worried about the fate of countless other scientists still in Germany. He rented a house in De Haan, Belgium, where he lived for a few months. In late July 1933, he went to England for about six weeks at the personal invitation of British naval officer Commander Oliver Locker-Lampson, who had become friends with Einstein in the preceding years. Locker-Lampson invited him to stay near his Cromer home in a wooden cabin on Roughton Heath in the Parish of Roughton, Norfolk. To protect Einstein, Locker-Lampson had two bodyguards watch over him at his secluded cabin; a photo of them carrying shotguns and guarding Einstein was published in the Daily Herald on 24 July 1933.Locker-Lampson took Einstein to meet Winston Churchill at his home, and later, Austen Chamberlain and former Prime Minister Lloyd George. Einstein asked them to help bring Jewish scientists out of Germany. British historian Martin Gilbert notes that Churchill responded immediately, and sent his friend, physicist Frederick Lindemann, to Germany to seek out Jewish scientists and place them in British universities. Churchill later observed that as a result of Germany having driven the Jews out, they had lowered their \"technical standards\" and put the Allies\\' technology ahead of theirs.Einstein later contacted leaders of other nations, including Turkey\\'s Prime Minister, İsmet İnönü, to whom he wrote in September 1933 requesting placement of unemployed German-Jewish scientists. As a result of Einstein\\'s letter, Jewish invitees to Turkey eventually totaled over \"1,000 saved individuals\".Locker-Lampson also submitted a bill to parliament to extend British citizenship to Einstein, during which period Einstein made a number of public appearances describing the crisis brewing in Europe. In one of his speeches he denounced Germany\\'s treatment of Jews, while at the same time he introduced a bill promoting Jewish citizenship in Palestine, as they were being denied citizenship elsewhere. In his speech he described Einstein as a \"citizen of the world\" who should be offered a temporary shelter in the UK. Both bills failed, however, and Einstein then accepted an earlier offer from the Institute for Advanced Study, in Princeton, New Jersey, US, to become a resident scholar.\\n\\nResident scholar at the Institute for Advanced Study\\nIn October 1933, Einstein returned to the US and took up a position at the Institute for Advanced Study, noted for having become a refuge for scientists fleeing Nazi Germany. At the time, most American universities, including Harvard, Princeton and Yale, had minimal or no Jewish faculty or students, as a result of their Jewish quotas, which lasted until the late 1940s.Einstein was still undecided on his future. He had offers from several European universities, including Christ Church, Oxford where he stayed for three short periods between May 1931 and June 1933 and was offered a 5-year studentship, but in 1935, he arrived at the decision to remain permanently in the United States and apply for citizenship.Einstein\\'s affiliation with the Institute for Advanced Study would last until his death in 1955. He was one of the four first selected (along with John von Neumann and Kurt Gödel) at the new Institute, where he soon developed a close friendship with Gödel. The two would take long walks together discussing their work. Bruria Kaufman, his assistant, later became a physicist. During this period, Einstein tried to develop a unified field theory and to refute the accepted interpretation of quantum physics, both unsuccessfully.\\n\\nWorld War II and the Manhattan Project\\nIn 1939, a group of Hungarian scientists that included émigré physicist Leó Szilárd attempted to alert Washington to ongoing Nazi atomic bomb research. The group\\'s warnings were discounted. Einstein and Szilárd, along with other refugees such as Edward Teller and Eugene Wigner, \"regarded it as their responsibility to alert Americans to the possibility that German scientists might win the race to build an atomic bomb, and to warn that Hitler would be more than willing to resort to such a weapon.\" To make certain the US was aware of the danger, in July 1939, a few months before the beginning of World War II in Europe, Szilárd and Wigner visited Einstein to explain the possibility of atomic bombs, which Einstein, a pacifist, said he had never considered. He was asked to lend his support by writing a letter, with Szilárd, to President Roosevelt, recommending the US pay attention and engage in its own nuclear weapons research.\\nThe letter is believed to be \"arguably the key stimulus for the U.S. adoption of serious investigations into nuclear weapons on the eve of the U.S. entry into World War II\". In addition to the letter, Einstein used his connections with the Belgian Royal Family and the Belgian queen mother to get access with a personal envoy to the White House\\'s Oval Office. Some say that as a result of Einstein\\'s letter and his meetings with Roosevelt, the US entered the \"race\" to develop the bomb, drawing on its \"immense material, financial, and scientific resources\" to initiate the Manhattan Project.\\nFor Einstein, \"war was a disease ... [and] he called for resistance to war.\" By signing the letter to Roosevelt, some argue he went against his pacifist principles. In 1954, a year before his death, Einstein said to his old friend, Linus Pauling, \"I made one great mistake in my life—when I signed the letter to President Roosevelt recommending that atom bombs be made; but there was some justification—the danger that the Germans would make them ...\" In 1955, Einstein and ten other intellectuals and scientists, including British philosopher Bertrand Russell, signed a manifesto highlighting the danger of nuclear weapons.\\n\\nUS citizenship\\nEinstein became an American citizen in 1940. Not long after settling into his career at the Institute for Advanced Study in Princeton, New Jersey, he expressed his appreciation of the meritocracy in American culture when compared to Europe. He recognized the \"right of individuals to say and think what they pleased\", without social barriers, and as a result, individuals were encouraged, he said, to be more creative, a trait he valued from his own early education.Einstein joined the National Association for the Advancement of Colored People (NAACP) in Princeton, where he campaigned for the civil rights of African Americans. He considered racism America\\'s \"worst disease\", seeing it as \"handed down from one generation to the next\". As part of his involvement, he corresponded with civil rights activist W. E. B. Du Bois and was prepared to testify on his behalf during his trial in 1951. When Einstein offered to be a character witness for Du Bois, the judge decided to drop the case.In 1946, Einstein visited Lincoln University in Pennsylvania, a historically black college, where he was awarded an honorary degree. Lincoln was the first university in the United States to grant college degrees to African Americans; alumni include Langston Hughes and Thurgood Marshall. Einstein gave a speech about racism in America, adding, \"I do not intend to be quiet about it.\" A resident of Princeton recalls that Einstein had once paid the college tuition for a black student. Einstein has said \"Being a Jew myself, perhaps I can understand and empathize with how black people feel as victims of discrimination\".\\n\\nPersonal life\\nAssisting Zionist causes\\nEinstein was a figurehead leader in helping establish the Hebrew University of Jerusalem, which opened in 1925 and was among its first Board of Governors. Earlier, in 1921, he was asked by the biochemist and president of the World Zionist Organization, Chaim Weizmann, to help raise funds for the planned university. He also submitted various suggestions as to its initial programs.\\nAmong those, he advised first creating an Institute of Agriculture in order to settle the undeveloped land. That should be followed, he suggested, by a Chemical Institute and an Institute of Microbiology, to fight the various ongoing epidemics such as malaria, which he called an \"evil\" that was undermining a third of the country\\'s development. Establishing an Oriental Studies Institute, to include language courses given in both Hebrew and Arabic, for scientific exploration of the country and its historical monuments, was also important.Einstein was not a nationalist; he was against the creation of an independent Jewish state, which would be established without his help as Israel in 1948. Einstein felt that the waves of arriving Jews of the Aliyah could live alongside existing Arabs in Palestine. His views were not shared by the majority of Jews seeking to form a new country; as a result, Einstein was limited to a marginal role in the Zionist movement.Chaim Weizmann later became Israel\\'s first president. Upon his death while in office in November 1952 and at the urging of Ezriel Carlebach, Prime Minister David Ben-Gurion offered Einstein the position of President of Israel, a mostly ceremonial post. The offer was presented by Israel\\'s ambassador in Washington, Abba Eban, who explained that the offer \"embodies the deepest respect which the Jewish people can repose in any of its sons\". Einstein declined, and wrote in his response that he was \"deeply moved\", and \"at once saddened and ashamed\" that he could not accept it.\\n\\nLove of music\\nEinstein developed an appreciation for music at an early age. In his late journals he wrote: \"If I were not a physicist, I would probably be a musician. I often think in music. I live my daydreams in music. I see my life in terms of music... I get most joy in life out of music.\"His mother played the piano reasonably well and wanted her son to learn the violin, not only to instill in him a love of music but also to help him assimilate into German culture. According to conductor Leon Botstein, Einstein began playing when he was 5. However, he did not enjoy it at that age.When he turned 13, he discovered the violin sonatas of Mozart, whereupon he became enamored of Mozart\\'s compositions and studied music more willingly. Einstein taught himself to play without \"ever practicing systematically\". He said that \"love is a better teacher than a sense of duty.\" At age 17, he was heard by a school examiner in Aarau while playing Beethoven\\'s violin sonatas. The examiner stated afterward that his playing was \"remarkable and revealing of \\'great insight\\'\". What struck the examiner, writes Botstein, was that Einstein \"displayed a deep love of the music, a quality that was and remains in short supply. Music possessed an unusual meaning for this student.\"Music took on a pivotal and permanent role in Einstein\\'s life from that period on. Although the idea of becoming a professional musician himself was not on his mind at any time, among those with whom Einstein played chamber music were a few professionals, and he performed for private audiences and friends. Chamber music had also become a regular part of his social life while living in Bern, Zürich, and Berlin, where he played with Max Planck and his son, among others. He is sometimes erroneously credited as the editor of the 1937 edition of the Köchel catalog of Mozart\\'s work; that edition was prepared by Alfred Einstein, who may have been a distant relation.In 1931, while engaged in research at the California Institute of Technology, he visited the Zoellner family conservatory in Los Angeles, where he played some of Beethoven and Mozart\\'s works with members of the Zoellner Quartet. Near the end of his life, when the young Juilliard Quartet visited him in Princeton, he played his violin with them, and the quartet was \"impressed by Einstein\\'s level of coordination and intonation\".\\n\\nPolitical views\\nIn 1918, Einstein was one of the founding members of the German Democratic Party, a liberal party. Later in his life, Einstein\\'s political view was in favor of socialism and critical of capitalism, which he detailed in his essays such as \"Why Socialism?\" His opinions on the Bolsheviks also changed with time. In 1925, he criticized them for not having a \\'well-regulated system of government\\' and called their rule a \\'regime of terror and a tragedy in human history\\'. He later adopted a more moderated view, criticizing their methods but praising them, which is shown by his 1929 remark on Vladimir Lenin: \"In Lenin I honor a man, who in total sacrifice of his own person has committed his entire energy to realizing social justice. I do not find his methods advisable. One thing is certain, however: men like him are the guardians and renewers of mankind\\'s conscience.\" Einstein offered and was called on to give judgments and opinions on matters often unrelated to theoretical physics or mathematics. He strongly advocated the idea of a democratic global government that would check the power of nation-states in the framework of a world federation. He wrote \"I advocate world government because I am convinced that there is no other possible way of eliminating the most terrible danger in which man has ever found himself.\" The FBI created a secret dossier on Einstein in 1932, and by the time of his death his FBI file was 1,427 pages long.Einstein was deeply impressed by Mahatma Gandhi, with whom he exchanged written letters. He described Gandhi as \"a role model for the generations to come\". The initial connection was established on 27 September 1931, when Wilfrid Israel took his Indian guest V. A. Sundaram to meet his friend Einstein at his summer home in the town of Caputh. Sundaram was Gandhi\\'s disciple and special envoy, whom Wilfrid Israel met while visiting India and visiting the Indian leader\\'s home in 1925. During the visit, Einstein wrote a short letter to Gandhi that was delivered to him through his envoy, and Gandhi responded quickly with his own letter. Although in the end Einstein and Gandhi were unable to meet as they had hoped, the direct connection between them was established through Wilfrid Israel.\\n\\nReligious and philosophical views\\nEinstein spoke of his spiritual outlook in a wide array of original writings and interviews. He said he had sympathy for the impersonal pantheistic God of Baruch Spinoza\\'s philosophy. He did not believe in a personal god who concerns himself with fates and actions of human beings, a view which he described as naïve. He clarified, however, that \"I am not an atheist\", preferring to call himself an agnostic, or a \"deeply religious nonbeliever\". When asked if he believed in an afterlife, Einstein replied, \"No. And one life is enough for me.\"Einstein was primarily affiliated with non-religious humanist and Ethical Culture groups in both the UK and US. He served on the advisory board of the First Humanist Society of New York, and was an honorary associate of the Rationalist Association, which publishes New Humanist in Britain. For the 75th anniversary of the New York Society for Ethical Culture, he stated that the idea of Ethical Culture embodied his personal conception of what is most valuable and enduring in religious idealism. He observed, \"Without \\'ethical culture\\' there is no salvation for humanity.\"\\nIn a German-language letter to philosopher Eric Gutkind, dated 3 January 1954, Einstein wrote:The word God is for me nothing more than the expression and product of human weaknesses, the Bible a collection of honorable, but still primitive legends which are nevertheless pretty childish. No interpretation no matter how subtle can (for me) change this. ... For me the Jewish religion like all other religions is an incarnation of the most childish superstitions. And the Jewish people to whom I gladly belong and with whose mentality I have a deep affinity have no different quality for me than all other people. ... I cannot see anything \\'chosen\\' about them.\\n\\nDeath\\nOn 17 April 1955, Einstein experienced internal bleeding caused by the rupture of an abdominal aortic aneurysm, which had previously been reinforced surgically by Rudolph Nissen in 1948. He took the draft of a speech he was preparing for a television appearance commemorating the state of Israel\\'s seventh anniversary with him to the hospital, but he did not live to complete it.Einstein refused surgery, saying, \"I want to go when I want. It is tasteless to prolong life artificially. I have done my share; it is time to go. I will do it elegantly.\" He died in Penn Medicine Princeton Medical Center early the next morning at the age of 76, having continued to work until near the end.During the autopsy, the pathologist Thomas Stoltz Harvey removed Einstein\\'s brain for preservation without the permission of his family, in the hope that the neuroscience of the future would be able to discover what made Einstein so intelligent. Einstein\\'s remains were cremated in Trenton, New Jersey, and his ashes were scattered at an undisclosed location.In a memorial lecture delivered on 13 December 1965 at UNESCO headquarters, nuclear physicist J. Robert Oppenheimer summarized his impression of Einstein as a person: \"He was almost wholly without sophistication and wholly without worldliness ... There was always with him a wonderful purity at once childlike and profoundly stubborn.\"Einstein bequeathed his personal archives, library and intellectual assets to the Hebrew University of Jerusalem in Israel.\\n\\nScientific career\\nThroughout his life, Einstein published hundreds of books and articles. He published more than 300 scientific papers and 150 non-scientific ones. On 5 December 2014, universities and archives announced the release of Einstein\\'s papers, comprising more than 30,000 unique documents. Einstein\\'s intellectual achievements and originality have made the word \"Einstein\" synonymous with \"genius\". In addition to the work he did by himself he also collaborated with other scientists on additional projects including the Bose–Einstein statistics, the Einstein refrigerator and others.\\n\\n1905 – Annus Mirabilis papers\\nThe Annus Mirabilis papers are four articles pertaining to the photoelectric effect (which gave rise to quantum theory), Brownian motion, the special theory of relativity, and E = mc2 that Einstein published in the Annalen der Physik scientific journal in 1905. These four works contributed substantially to the foundation of modern physics and changed views on space, time, and matter. The four papers are:\\n\\nStatistical mechanics\\nThermodynamic fluctuations and statistical physics\\nEinstein\\'s first paper submitted in 1900 to Annalen der Physik was on capillary attraction. It was published in 1901 with the title \"Folgerungen aus den Capillaritätserscheinungen\", which translates as \"Conclusions from the capillarity phenomena\". Two papers he published in 1902–1903 (thermodynamics) attempted to interpret atomic phenomena from a statistical point of view. These papers were the foundation for the 1905 paper on Brownian motion, which showed that Brownian movement can be construed as firm evidence that molecules exist. His research in 1903 and 1904 was mainly concerned with the effect of finite atomic size on diffusion phenomena.\\n\\nTheory of critical opalescence\\nEinstein returned to the problem of thermodynamic fluctuations, giving a treatment of the density variations in a fluid at its critical point. Ordinarily the density fluctuations are controlled by the second derivative of the free energy with respect to the density. At the critical point, this derivative is zero, leading to large fluctuations. The effect of density fluctuations is that light of all wavelengths is scattered, making the fluid look milky white. Einstein relates this to Rayleigh scattering, which is what happens when the fluctuation size is much smaller than the wavelength, and which explains why the sky is blue. Einstein quantitatively derived critical opalescence from a treatment of density fluctuations, and demonstrated how both the effect and Rayleigh scattering originate from the atomistic constitution of matter.\\n\\nSpecial relativity\\nEinstein\\'s \"Zur Elektrodynamik bewegter Körper\" (\"On the Electrodynamics of Moving Bodies\") was received on 30 June 1905 and published 26 September of that same year. It reconciled conflicts between Maxwell\\'s equations (the laws of electricity and magnetism) and the laws of Newtonian mechanics by introducing changes to the laws of mechanics. Observationally, the effects of these changes are most apparent at high speeds (where objects are moving at speeds close to the speed of light). The theory developed in this paper later became known as Einstein\\'s special theory of relativity. There is evidence from Einstein\\'s writings that he collaborated with his first wife, Mileva Marić, on this work. The decision to publish only under his name seems to have been mutual, but the exact reason is unknown.This paper predicted that, when measured in the frame of a relatively moving observer, a clock carried by a moving body would appear to slow down, and the body itself would contract in its direction of motion. This paper also argued that the idea of a luminiferous aether—one of the leading theoretical entities in physics at the time—was superfluous.In his paper on mass–energy equivalence, Einstein produced E = mc2 as a consequence of his special relativity equations. Einstein\\'s 1905 work on relativity remained controversial for many years, but was accepted by leading physicists, starting with Max Planck.Einstein originally framed special relativity in terms of kinematics (the study of moving bodies). In 1908, Hermann Minkowski reinterpreted special relativity in geometric terms as a theory of spacetime. Einstein adopted Minkowski\\'s formalism in his 1915 general theory of relativity.\\n\\nGeneral relativity\\nGeneral relativity and the equivalence principle\\nGeneral relativity (GR) is a theory of gravitation that was developed by Einstein between 1907 and 1915. According to general relativity, the observed gravitational attraction between masses results from the warping of space and time by those masses. General relativity has developed into an essential tool in modern astrophysics. It provides the foundation for the current understanding of black holes, regions of space where gravitational attraction is so strong that not even light can escape.\\nAs Einstein later said, the reason for the development of general relativity was that the preference of inertial motions within special relativity was unsatisfactory, while a theory which from the outset prefers no state of motion (even accelerated ones) should appear more satisfactory. Consequently, in 1907 he published an article on acceleration under special relativity. In that article titled \"On the Relativity Principle and the Conclusions Drawn from It\", he argued that free fall is really inertial motion, and that for a free-falling observer the rules of special relativity must apply. This argument is called the equivalence principle. In the same article, Einstein also predicted the phenomena of gravitational time dilation, gravitational redshift and deflection of light.In 1911, Einstein published another article \"On the Influence of Gravitation on the Propagation of Light\" expanding on the 1907 article, in which he estimated the amount of deflection of light by massive bodies. Thus, the theoretical prediction of general relativity could for the first time be tested experimentally.\\n\\nGravitational waves\\nIn 1916, Einstein predicted gravitational waves, ripples in the curvature of spacetime which propagate as waves, traveling outward from the source, transporting energy as gravitational radiation. The existence of gravitational waves is possible under general relativity due to its Lorentz invariance which brings the concept of a finite speed of propagation of the physical interactions of gravity with it. By contrast, gravitational waves cannot exist in the Newtonian theory of gravitation, which postulates that the physical interactions of gravity propagate at infinite speed.\\nThe first, indirect, detection of gravitational waves came in the 1970s through observation of a pair of closely orbiting neutron stars, PSR B1913+16. The explanation of the decay in their orbital period was that they were emitting gravitational waves. Einstein\\'s prediction was confirmed on 11 February 2016, when researchers at LIGO published the first observation of gravitational waves, detected on Earth on 14 September 2015, nearly one hundred years after the prediction.\\n\\nHole argument and Entwurf theory\\nWhile developing general relativity, Einstein became confused about the gauge invariance in the theory. He formulated an argument that led him to conclude that a general relativistic field theory is impossible. He gave up looking for fully generally covariant tensor equations and searched for equations that would be invariant under general linear transformations only.\\nIn June 1913, the Entwurf (\\'draft\\') theory was the result of these investigations. As its name suggests, it was a sketch of a theory, less elegant and more difficult than general relativity, with the equations of motion supplemented by additional gauge fixing conditions. After more than two years of intensive work, Einstein realized that the hole argument was mistaken and abandoned the theory in November 1915.\\n\\nPhysical cosmology\\nIn 1917, Einstein applied the general theory of relativity to the structure of the universe as a whole. He discovered that the general field equations predicted a universe that was dynamic, either contracting or expanding. As observational evidence for a dynamic universe was not known at the time, Einstein introduced a new term, the cosmological constant, to the field equations, in order to allow the theory to predict a static universe. The modified field equations predicted a static universe of closed curvature, in accordance with Einstein\\'s understanding of Mach\\'s principle in these years. This model became known as the Einstein World or Einstein\\'s static universe.Following the discovery of the recession of the nebulae by Edwin Hubble in 1929, Einstein abandoned his static model of the universe, and proposed two dynamic models of the cosmos, The Friedmann-Einstein universe of 1931 and the Einstein–de Sitter universe of 1932. In each of these models, Einstein discarded the cosmological constant, claiming that it was \"in any case theoretically unsatisfactory\".In many Einstein biographies, it is claimed that Einstein referred to the cosmological constant in later years as his \"biggest blunder\". The astrophysicist Mario Livio has recently cast doubt on this claim, suggesting that it may be exaggerated.In late 2013, a team led by the Irish physicist Cormac O\\'Raifeartaigh discovered evidence that, shortly after learning of Hubble\\'s observations of the recession of the nebulae, Einstein considered a steady-state model of the universe. In a hitherto overlooked manuscript, apparently written in early 1931, Einstein explored a model of the expanding universe in which the density of matter remains constant due to a continuous creation of matter, a process he associated with the cosmological constant. As he stated in the paper, \"In what follows, I would like to draw attention to a solution to equation (1) that can account for Hubbel\\'s [sic] facts, and in which the density is constant over time\" ... \"If one considers a physically bounded volume, particles of matter will be continually leaving it. For the density to remain constant, new particles of matter must be continually formed in the volume from space.\"\\nIt thus appears that Einstein considered a steady-state model of the expanding universe many years before Hoyle, Bondi and Gold. However, Einstein\\'s steady-state model contained a fundamental flaw and he quickly abandoned the idea.\\n\\nEnergy momentum pseudotensor\\nGeneral relativity includes a dynamical spacetime, so it is difficult to see how to identify the conserved energy and momentum. Noether\\'s theorem allows these quantities to be determined from a Lagrangian with translation invariance, but general covariance makes translation invariance into something of a gauge symmetry. The energy and momentum derived within general relativity by Noether\\'s prescriptions do not make a real tensor for this reason.\\nEinstein argued that this is true for a fundamental reason: the gravitational field could be made to vanish by a choice of coordinates. He maintained that the non-covariant energy momentum pseudotensor was, in fact, the best description of the energy momentum distribution in a gravitational field. This approach has been echoed by Lev Landau and Evgeny Lifshitz, and others, and has become standard.\\nThe use of non-covariant objects like pseudotensors was heavily criticized in 1917 by Erwin Schrödinger and others.\\n\\nWormholes\\nIn 1935, Einstein collaborated with Nathan Rosen to produce a model of a wormhole, often called Einstein–Rosen bridges. His motivation was to model elementary particles with charge as a solution of gravitational field equations, in line with the program outlined in the paper \"Do Gravitational Fields play an Important Role in the Constitution of the Elementary Particles?\". These solutions cut and pasted Schwarzschild black holes to make a bridge between two patches.If one end of a wormhole was positively charged, the other end would be negatively charged. These properties led Einstein to believe that pairs of particles and antiparticles could be described in this way.\\n\\nEinstein–Cartan theory\\nIn order to incorporate spinning point particles into general relativity, the affine connection needed to be generalized to include an antisymmetric part, called the torsion. This modification was made by Einstein and Cartan in the 1920s.\\n\\nEquations of motion\\nThe theory of general relativity has a fundamental law—the Einstein field equations, which describe how space curves. The geodesic equation, which describes how particles move, may be derived from the Einstein field equations.\\nSince the equations of general relativity are non-linear, a lump of energy made out of pure gravitational fields, like a black hole, would move on a trajectory which is determined by the Einstein field equations themselves, not by a new law. So Einstein proposed that the path of a singular solution, like a black hole, would be determined to be a geodesic from general relativity itself.\\nThis was established by Einstein, Infeld, and Hoffmann for pointlike objects without angular momentum, and by Roy Kerr for spinning objects.\\n\\nOld quantum theory\\nPhotons and energy quanta\\nIn a 1905 paper, Einstein postulated that light itself consists of localized particles (quanta). Einstein\\'s light quanta were nearly universally rejected by all physicists, including Max Planck and Niels Bohr. This idea only became universally accepted in 1919, with Robert Millikan\\'s detailed experiments on the photoelectric effect, and with the measurement of Compton scattering.\\nEinstein concluded that each wave of frequency f is associated with a collection of photons with energy hf each, where h is Planck\\'s constant. He does not say much more, because he is not sure how the particles are related to the wave. But he does suggest that this idea would explain certain experimental results, notably the photoelectric effect.\\n\\nQuantized atomic vibrations\\nIn 1907, Einstein proposed a model of matter where each atom in a lattice structure is an independent harmonic oscillator. In the Einstein model, each atom oscillates independently—a series of equally spaced quantized states for each oscillator. Einstein was aware that getting the frequency of the actual oscillations would be difficult, but he nevertheless proposed this theory because it was a particularly clear demonstration that quantum mechanics could solve the specific heat problem in classical mechanics. Peter Debye refined this model.\\n\\nAdiabatic principle and action-angle variables\\nThroughout the 1910s, quantum mechanics expanded in scope to cover many different systems. After Ernest Rutherford discovered the nucleus and proposed that electrons orbit like planets, Niels Bohr was able to show that the same quantum mechanical postulates introduced by Planck and developed by Einstein would explain the discrete motion of electrons in atoms, and the periodic table of the elements.\\nEinstein contributed to these developments by linking them with the 1898 arguments Wilhelm Wien had made. Wien had shown that the hypothesis of adiabatic invariance of a thermal equilibrium state allows all the blackbody curves at different temperature to be derived from one another by a simple shifting process. Einstein noted in 1911 that the same adiabatic principle shows that the quantity which is quantized in any mechanical motion must be an adiabatic invariant. Arnold Sommerfeld identified this adiabatic invariant as the action variable of classical mechanics.\\n\\nBose–Einstein statistics\\nIn 1924, Einstein received a description of a statistical model from Indian physicist Satyendra Nath Bose, based on a counting method that assumed that light could be understood as a gas of indistinguishable particles. Einstein noted that Bose\\'s statistics applied to some atoms as well as to the proposed light particles, and submitted his translation of Bose\\'s paper to the Zeitschrift für Physik. Einstein also published his own articles describing the model and its implications, among them the Bose–Einstein condensate phenomenon that some particulates should appear at very low temperatures. It was not until 1995 that the first such condensate was produced experimentally by Eric Allin Cornell and Carl Wieman using ultra-cooling equipment built at the NIST–JILA laboratory at the University of Colorado at Boulder. Bose–Einstein statistics are now used to describe the behaviors of any assembly of bosons. Einstein\\'s sketches for this project may be seen in the Einstein Archive in the library of the Leiden University.\\n\\nWave–particle duality\\nAlthough the patent office promoted Einstein to Technical Examiner Second Class in 1906, he had not given up on academia. In 1908, he became a Privatdozent at the University of Bern. In \"Über die Entwicklung unserer Anschauungen über das Wesen und die Konstitution der Strahlung\" (\"The Development of our Views on the Composition and Essence of Radiation\"), on the quantization of light, and in an earlier 1909 paper, Einstein showed that Max Planck\\'s energy quanta must have well-defined momenta and act in some respects as independent, point-like particles. This paper introduced the photon concept (although the name photon was introduced later by Gilbert N. Lewis in 1926) and inspired the notion of wave–particle duality in quantum mechanics. Einstein saw this wave–particle duality in radiation as concrete evidence for his conviction that physics needed a new, unified foundation.\\n\\nZero-point energy\\nIn a series of works completed from 1911 to 1913, Planck reformulated his 1900 quantum theory and introduced the idea of zero-point energy in his \"second quantum theory\". Soon, this idea attracted the attention of Einstein and his assistant Otto Stern. Assuming the energy of rotating diatomic molecules contains zero-point energy, they then compared the theoretical specific heat of hydrogen gas with the experimental data. The numbers matched nicely. However, after publishing the findings, they promptly withdrew their support, because they no longer had confidence in the correctness of the idea of zero-point energy.\\n\\nStimulated emission\\nIn 1917, at the height of his work on relativity, Einstein published an article in Physikalische Zeitschrift that proposed the possibility of stimulated emission, the physical process that makes possible the maser and the laser.\\nThis article showed that the statistics of absorption and emission of light would only be consistent with Planck\\'s distribution law if the emission of light into a mode with n photons would be enhanced statistically compared to the emission of light into an empty mode. This paper was enormously influential in the later development of quantum mechanics, because it was the first paper to show that the statistics of atomic transitions had simple laws.\\n\\nMatter waves\\nEinstein discovered Louis de Broglie\\'s work and supported his ideas, which were received skeptically at first. In another major paper from this era, Einstein gave a wave equation for de Broglie waves, which Einstein suggested was the Hamilton–Jacobi equation of mechanics. This paper would inspire Schrödinger\\'s work of 1926.\\n\\nQuantum mechanics\\nEinstein\\'s objections to quantum mechanics\\nEinstein played a major role in developing quantum theory, beginning with his 1905 paper on the photoelectric effect. However, he became displeased with modern quantum mechanics as it had evolved after 1925, despite its acceptance by other physicists. He was skeptical that the randomness of quantum mechanics was fundamental rather than the result of determinism, stating that God \"is not playing at dice\". Until the end of his life, he continued to maintain that quantum mechanics was incomplete.\\n\\nBohr versus Einstein\\nThe Bohr–Einstein debates were a series of public disputes about quantum mechanics between Einstein and Niels Bohr, who were two of its founders. Their debates are remembered because of their importance to the philosophy of science. Their debates would influence later interpretations of quantum mechanics.\\n\\nEinstein–Podolsky–Rosen paradox\\nIn 1935, Einstein returned to quantum mechanics, in particular to the question of its completeness, in the \"EPR paper\". In a thought experiment, he considered two particles, which had interacted such that their properties were strongly correlated. No matter how far the two particles were separated, a precise position measurement on one particle would result in equally precise knowledge of the position of the other particle; likewise, a precise momentum measurement of one particle would result in equally precise knowledge of the momentum of the other particle, without needing to disturb the other particle in any way.Given Einstein\\'s concept of local realism, there were two possibilities: (1) either the other particle had these properties already determined, or (2) the process of measuring the first particle instantaneously affected the reality of the position and momentum of the second particle. Einstein rejected this second possibility (popularly called \"spooky action at a distance\").Einstein\\'s belief in local realism led him to assert that, while the correctness of quantum mechanics was not in question, it must be incomplete. But as a physical principle, local realism was shown to be incorrect when the Aspect experiment of 1982 confirmed Bell\\'s theorem, which J. S. Bell had delineated in 1964. The results of these and subsequent experiments demonstrate that quantum physics cannot be represented by any version of the picture of physics in which \"particles are regarded as unconnected independent classical-like entities, each one being unable to communicate with the other after they have separated.\"Although Einstein was wrong about local realism, his clear prediction of the unusual properties of its opposite, entangled quantum states, has resulted in the EPR paper becoming among the top ten papers published in Physical Review. It is considered a centerpiece of the development of quantum information theory.\\n\\nUnified field theory\\nFollowing his research on general relativity, Einstein attempted to generalize his theory of gravitation to include electromagnetism as aspects of a single entity. In 1950, he described his \"unified field theory\" in a Scientific American article titled \"On the Generalized Theory of Gravitation\". Although he was lauded for this work, his efforts were ultimately unsuccessful.\\nNotably, Einstein\\'s unification project did not accommodate the strong and weak nuclear forces, neither of which were well understood until many years after his death. Although mainstream physics long ignored Einstein\\'s approaches to unification, Einstein\\'s work has motivated modern quests for a theory of everything, in particular string theory, where geometrical fields emerge in a unified quantum-mechanical setting.\\n\\nOther investigations\\nEinstein conducted other investigations that were unsuccessful and abandoned. These pertain to force, superconductivity, and other research.\\n\\nCollaboration with other scientists\\nIn addition to longtime collaborators Leopold Infeld, Nathan Rosen, Peter Bergmann and others, Einstein also had some one-shot collaborations with various scientists.\\n\\nEinstein–de Haas experiment\\nEinstein and De Haas demonstrated that magnetization is due to the motion of electrons, nowadays known to be the spin. In order to show this, they reversed the magnetization in an iron bar suspended on a torsion pendulum. They confirmed that this leads the bar to rotate, because the electron\\'s angular momentum changes as the magnetization changes. This experiment needed to be sensitive because the angular momentum associated with electrons is small, but it definitively established that electron motion of some kind is responsible for magnetization.\\n\\nSchrödinger gas model\\nEinstein suggested to Erwin Schrödinger that he might be able to reproduce the statistics of a Bose–Einstein gas by considering a box. Then to each possible quantum motion of a particle in a box associate an independent harmonic oscillator. Quantizing these oscillators, each level will have an integer occupation number, which will be the number of particles in it.This formulation is a form of second quantization, but it predates modern quantum mechanics. Erwin Schrödinger applied this to derive the thermodynamic properties of a semiclassical ideal gas. Schrödinger urged Einstein to add his name as co-author, although Einstein declined the invitation.\\n\\nEinstein refrigerator\\nIn 1926, Einstein and his former student Leó Szilárd co-invented (and in 1930, patented) the Einstein refrigerator. This absorption refrigerator was then revolutionary for having no moving parts and using only heat as an input. On 11 November 1930, U.S. Patent 1,781,541 was awarded to Einstein and Leó Szilárd for the refrigerator. Their invention was not immediately put into commercial production, and the most promising of their patents were acquired by the Swedish company Electrolux.\\n\\nNon-scientific legacy\\nWhile traveling, Einstein wrote daily to his wife Elsa and adopted stepdaughters Margot and Ilse. The letters were included in the papers bequeathed to the Hebrew University of Jerusalem. Margot Einstein permitted the personal letters to be made available to the public, but requested that it not be done until twenty years after her death (she died in 1986). Barbara Wolff, of the Hebrew University\\'s Albert Einstein Archives, told the BBC that there are about 3,500 pages of private correspondence written between 1912 and 1955.Einstein\\'s right of publicity was litigated in 2015 in a federal district court in California. Although the court initially held that the right had expired, that ruling was immediately appealed, and the decision was later vacated in its entirety. The underlying claims between the parties in that lawsuit were ultimately settled. The right is enforceable, and the Hebrew University of Jerusalem is the exclusive representative of that right. Corbis, successor to The Roger Richman Agency, licenses the use of his name and associated imagery, as agent for the university.\\n\\nIn popular culture\\nEinstein became one of the most famous scientific celebrities, beginning with the confirmation of his theory of general relativity in 1919. Despite the general public having little understanding of his work, he was widely recognized and received adulation and publicity. In the period before World War II, The New Yorker published a vignette in their \"The Talk of the Town\" feature saying that Einstein was so well known in America that he would be stopped on the street by people wanting him to explain \"that theory\". He finally figured out a way to handle the incessant inquiries. He told his inquirers \"Pardon me, sorry! Always I am mistaken for Professor Einstein.\"Einstein has been the subject of or inspiration for many novels, films, plays, and works of music. He is a favorite model for depictions of absent-minded professors; his expressive face and distinctive hairstyle have been widely copied and exaggerated. Time magazine\\'s Frederic Golden wrote that Einstein was \"a cartoonist\\'s dream come true\".Many popular quotations are often misattributed to him.\\n\\nAwards and honors\\nEinstein received numerous awards and honors, and in 1922, he was awarded the 1921 Nobel Prize in Physics \"for his services to Theoretical Physics, and especially for his discovery of the law of the photoelectric effect\". None of the nominations in 1921 met the criteria set by Alfred Nobel, so the 1921 prize was carried forward and awarded to Einstein in 1922.\\n\\nPublications\\nScientific\\nOthers\\nSee also\\nNotes\\nReferences\\nWorks cited\\nFurther reading\\nExternal links\\n\\nAlbert Einstein at Curlie\\nWorks by Albert Einstein at Project Gutenberg\\nWorks by or about Albert Einstein at Internet Archive\\nWorks by Albert Einstein at LibriVox (public domain audiobooks) \\nEinstein\\'s Personal Correspondence: Religion, Politics, The Holocaust, and Philosophy Shapell Manuscript Foundation\\nFederal Bureau of Investigation file on Albert Einstein\\nEinstein and his love of music, Physics World\\nAlbert Einstein on Nobelprize.org  including the Nobel Lecture 11 July 1923 Fundamental ideas and problems of the theory of relativity\\nAlbert Einstein Archives Online (80,000+ Documents) Archived 11 August 2011 at WebCite (MSNBC, 19 March 2012)\\nEinstein\\'s declaration of intention for American citizenship on the World Digital Library\\nAlbert Einstein Collection at Brandeis University\\nThe Collected Papers of Albert Einstein \"Digital Einstein\" at Princeton University\\nNewspaper clippings about Albert Einstein in the 20th Century Press Archives of the ZBW\\nHome page of Albert Einstein at The Institute for Advanced Study\\nAlbert – The Digital Repository of the IAS, which contains many digitized original documents and photographs']"
            ]
          },
          "metadata": {},
          "execution_count": 34
        }
      ]
    },
    {
      "cell_type": "markdown",
      "source": [
        "# Analysis"
      ],
      "metadata": {
        "id": "YoSNKgYMaixs"
      }
    },
    {
      "cell_type": "markdown",
      "source": [
        "## Preprocessing & DataFrame"
      ],
      "metadata": {
        "id": "FP5__Ho-atEB"
      }
    },
    {
      "cell_type": "markdown",
      "source": [
        "Before the word2vec model is fitted, the data is first prepared and cleaned."
      ],
      "metadata": {
        "id": "AIDLJmZ9A1HP"
      }
    },
    {
      "cell_type": "code",
      "source": [
        "text = page_ab.text\n",
        "text = text.split(\" \")\n",
        "#lower tokens and remove stop words for aplphabetic words\n",
        "token = [w.lower() for w in text if w.isalpha()]\n",
        "no_stops = [t for t in token if t not in stopwords.words('english')]"
      ],
      "metadata": {
        "id": "s_Z6kJZkXC2L"
      },
      "execution_count": null,
      "outputs": []
    },
    {
      "cell_type": "code",
      "source": [
        "#creation of the DataFrame with the original text and the cleaned text\n",
        "df = pd.DataFrame({'Albert_Einstein_wiki':[text], 'Albert_Einstein_wiki_cleaned':[no_stops]})"
      ],
      "metadata": {
        "id": "Re_ETHSqXC7h"
      },
      "execution_count": null,
      "outputs": []
    },
    {
      "cell_type": "code",
      "source": [
        "df"
      ],
      "metadata": {
        "colab": {
          "base_uri": "https://localhost:8080/"
        },
        "id": "sxUsZ6hbXI_r",
        "outputId": "88f27765-4dc0-407a-91cf-b5f0e1b26c4d"
      },
      "execution_count": null,
      "outputs": [
        {
          "output_type": "execute_result",
          "data": {
            "text/html": [
              "\n",
              "  <div id=\"df-a07331b1-974e-4435-afcd-c7f099b67607\">\n",
              "    <div class=\"colab-df-container\">\n",
              "      <div>\n",
              "<style scoped>\n",
              "    .dataframe tbody tr th:only-of-type {\n",
              "        vertical-align: middle;\n",
              "    }\n",
              "\n",
              "    .dataframe tbody tr th {\n",
              "        vertical-align: top;\n",
              "    }\n",
              "\n",
              "    .dataframe thead th {\n",
              "        text-align: right;\n",
              "    }\n",
              "</style>\n",
              "<table border=\"1\" class=\"dataframe\">\n",
              "  <thead>\n",
              "    <tr style=\"text-align: right;\">\n",
              "      <th></th>\n",
              "      <th>Albert_Einstein_wiki</th>\n",
              "      <th>Albert_Einstein_wiki_cleaned</th>\n",
              "    </tr>\n",
              "  </thead>\n",
              "  <tbody>\n",
              "    <tr>\n",
              "      <th>0</th>\n",
              "      <td>[Albert, Einstein, (, EYEN-styne;, German:, [ˈ...</td>\n",
              "      <td>[albert, einstein, march, april, theoretical, ...</td>\n",
              "    </tr>\n",
              "  </tbody>\n",
              "</table>\n",
              "</div>\n",
              "      <button class=\"colab-df-convert\" onclick=\"convertToInteractive('df-a07331b1-974e-4435-afcd-c7f099b67607')\"\n",
              "              title=\"Convert this dataframe to an interactive table.\"\n",
              "              style=\"display:none;\">\n",
              "        \n",
              "  <svg xmlns=\"http://www.w3.org/2000/svg\" height=\"24px\"viewBox=\"0 0 24 24\"\n",
              "       width=\"24px\">\n",
              "    <path d=\"M0 0h24v24H0V0z\" fill=\"none\"/>\n",
              "    <path d=\"M18.56 5.44l.94 2.06.94-2.06 2.06-.94-2.06-.94-.94-2.06-.94 2.06-2.06.94zm-11 1L8.5 8.5l.94-2.06 2.06-.94-2.06-.94L8.5 2.5l-.94 2.06-2.06.94zm10 10l.94 2.06.94-2.06 2.06-.94-2.06-.94-.94-2.06-.94 2.06-2.06.94z\"/><path d=\"M17.41 7.96l-1.37-1.37c-.4-.4-.92-.59-1.43-.59-.52 0-1.04.2-1.43.59L10.3 9.45l-7.72 7.72c-.78.78-.78 2.05 0 2.83L4 21.41c.39.39.9.59 1.41.59.51 0 1.02-.2 1.41-.59l7.78-7.78 2.81-2.81c.8-.78.8-2.07 0-2.86zM5.41 20L4 18.59l7.72-7.72 1.47 1.35L5.41 20z\"/>\n",
              "  </svg>\n",
              "      </button>\n",
              "      \n",
              "  <style>\n",
              "    .colab-df-container {\n",
              "      display:flex;\n",
              "      flex-wrap:wrap;\n",
              "      gap: 12px;\n",
              "    }\n",
              "\n",
              "    .colab-df-convert {\n",
              "      background-color: #E8F0FE;\n",
              "      border: none;\n",
              "      border-radius: 50%;\n",
              "      cursor: pointer;\n",
              "      display: none;\n",
              "      fill: #1967D2;\n",
              "      height: 32px;\n",
              "      padding: 0 0 0 0;\n",
              "      width: 32px;\n",
              "    }\n",
              "\n",
              "    .colab-df-convert:hover {\n",
              "      background-color: #E2EBFA;\n",
              "      box-shadow: 0px 1px 2px rgba(60, 64, 67, 0.3), 0px 1px 3px 1px rgba(60, 64, 67, 0.15);\n",
              "      fill: #174EA6;\n",
              "    }\n",
              "\n",
              "    [theme=dark] .colab-df-convert {\n",
              "      background-color: #3B4455;\n",
              "      fill: #D2E3FC;\n",
              "    }\n",
              "\n",
              "    [theme=dark] .colab-df-convert:hover {\n",
              "      background-color: #434B5C;\n",
              "      box-shadow: 0px 1px 3px 1px rgba(0, 0, 0, 0.15);\n",
              "      filter: drop-shadow(0px 1px 2px rgba(0, 0, 0, 0.3));\n",
              "      fill: #FFFFFF;\n",
              "    }\n",
              "  </style>\n",
              "\n",
              "      <script>\n",
              "        const buttonEl =\n",
              "          document.querySelector('#df-a07331b1-974e-4435-afcd-c7f099b67607 button.colab-df-convert');\n",
              "        buttonEl.style.display =\n",
              "          google.colab.kernel.accessAllowed ? 'block' : 'none';\n",
              "\n",
              "        async function convertToInteractive(key) {\n",
              "          const element = document.querySelector('#df-a07331b1-974e-4435-afcd-c7f099b67607');\n",
              "          const dataTable =\n",
              "            await google.colab.kernel.invokeFunction('convertToInteractive',\n",
              "                                                     [key], {});\n",
              "          if (!dataTable) return;\n",
              "\n",
              "          const docLinkHtml = 'Like what you see? Visit the ' +\n",
              "            '<a target=\"_blank\" href=https://colab.research.google.com/notebooks/data_table.ipynb>data table notebook</a>'\n",
              "            + ' to learn more about interactive tables.';\n",
              "          element.innerHTML = '';\n",
              "          dataTable['output_type'] = 'display_data';\n",
              "          await google.colab.output.renderOutput(dataTable, element);\n",
              "          const docLink = document.createElement('div');\n",
              "          docLink.innerHTML = docLinkHtml;\n",
              "          element.appendChild(docLink);\n",
              "        }\n",
              "      </script>\n",
              "    </div>\n",
              "  </div>\n",
              "  "
            ],
            "text/plain": [
              "                                Albert_Einstein_wiki                       Albert_Einstein_wiki_cleaned\n",
              "0  [Albert, Einstein, (, EYEN-styne;, German:, [ˈ...  [albert, einstein, march, april, theoretical, ..."
            ]
          },
          "metadata": {},
          "execution_count": 37
        }
      ]
    },
    {
      "cell_type": "markdown",
      "source": [
        "### Lemmatization"
      ],
      "metadata": {
        "id": "xWZmVCEkBWdR"
      }
    },
    {
      "cell_type": "markdown",
      "source": [
        "The stop words have now been removed, but it is better to do the lemmatisation as well. This can increase the quality of the data."
      ],
      "metadata": {
        "id": "Rd76dJIDB4Lh"
      }
    },
    {
      "cell_type": "code",
      "source": [
        "!python -m spacy download en_core_web_sm"
      ],
      "metadata": {
        "colab": {
          "base_uri": "https://localhost:8080/"
        },
        "id": "U8MfNBJbr-qj",
        "outputId": "a2e14e97-4111-4387-ca97-db3d2169fd05"
      },
      "execution_count": null,
      "outputs": [
        {
          "output_type": "stream",
          "name": "stdout",
          "text": [
            "Collecting en_core_web_sm==2.2.5\n",
            "  Downloading https://github.com/explosion/spacy-models/releases/download/en_core_web_sm-2.2.5/en_core_web_sm-2.2.5.tar.gz (12.0 MB)\n",
            "\u001b[K     |████████████████████████████████| 12.0 MB 5.3 MB/s \n",
            "\u001b[?25hRequirement already satisfied: spacy>=2.2.2 in /usr/local/lib/python3.7/dist-packages (from en_core_web_sm==2.2.5) (2.2.4)\n",
            "Requirement already satisfied: numpy>=1.15.0 in /usr/local/lib/python3.7/dist-packages (from spacy>=2.2.2->en_core_web_sm==2.2.5) (1.19.5)\n",
            "Requirement already satisfied: murmurhash<1.1.0,>=0.28.0 in /usr/local/lib/python3.7/dist-packages (from spacy>=2.2.2->en_core_web_sm==2.2.5) (1.0.6)\n",
            "Requirement already satisfied: catalogue<1.1.0,>=0.0.7 in /usr/local/lib/python3.7/dist-packages (from spacy>=2.2.2->en_core_web_sm==2.2.5) (1.0.0)\n",
            "Requirement already satisfied: plac<1.2.0,>=0.9.6 in /usr/local/lib/python3.7/dist-packages (from spacy>=2.2.2->en_core_web_sm==2.2.5) (1.1.3)\n",
            "Requirement already satisfied: setuptools in /usr/local/lib/python3.7/dist-packages (from spacy>=2.2.2->en_core_web_sm==2.2.5) (57.4.0)\n",
            "Requirement already satisfied: requests<3.0.0,>=2.13.0 in /usr/local/lib/python3.7/dist-packages (from spacy>=2.2.2->en_core_web_sm==2.2.5) (2.23.0)\n",
            "Requirement already satisfied: wasabi<1.1.0,>=0.4.0 in /usr/local/lib/python3.7/dist-packages (from spacy>=2.2.2->en_core_web_sm==2.2.5) (0.9.0)\n",
            "Requirement already satisfied: srsly<1.1.0,>=1.0.2 in /usr/local/lib/python3.7/dist-packages (from spacy>=2.2.2->en_core_web_sm==2.2.5) (1.0.5)\n",
            "Requirement already satisfied: tqdm<5.0.0,>=4.38.0 in /usr/local/lib/python3.7/dist-packages (from spacy>=2.2.2->en_core_web_sm==2.2.5) (4.62.3)\n",
            "Requirement already satisfied: cymem<2.1.0,>=2.0.2 in /usr/local/lib/python3.7/dist-packages (from spacy>=2.2.2->en_core_web_sm==2.2.5) (2.0.6)\n",
            "Requirement already satisfied: preshed<3.1.0,>=3.0.2 in /usr/local/lib/python3.7/dist-packages (from spacy>=2.2.2->en_core_web_sm==2.2.5) (3.0.6)\n",
            "Requirement already satisfied: thinc==7.4.0 in /usr/local/lib/python3.7/dist-packages (from spacy>=2.2.2->en_core_web_sm==2.2.5) (7.4.0)\n",
            "Requirement already satisfied: blis<0.5.0,>=0.4.0 in /usr/local/lib/python3.7/dist-packages (from spacy>=2.2.2->en_core_web_sm==2.2.5) (0.4.1)\n",
            "Requirement already satisfied: importlib-metadata>=0.20 in /usr/local/lib/python3.7/dist-packages (from catalogue<1.1.0,>=0.0.7->spacy>=2.2.2->en_core_web_sm==2.2.5) (4.10.0)\n",
            "Requirement already satisfied: typing-extensions>=3.6.4 in /usr/local/lib/python3.7/dist-packages (from importlib-metadata>=0.20->catalogue<1.1.0,>=0.0.7->spacy>=2.2.2->en_core_web_sm==2.2.5) (3.10.0.2)\n",
            "Requirement already satisfied: zipp>=0.5 in /usr/local/lib/python3.7/dist-packages (from importlib-metadata>=0.20->catalogue<1.1.0,>=0.0.7->spacy>=2.2.2->en_core_web_sm==2.2.5) (3.7.0)\n",
            "Requirement already satisfied: certifi>=2017.4.17 in /usr/local/lib/python3.7/dist-packages (from requests<3.0.0,>=2.13.0->spacy>=2.2.2->en_core_web_sm==2.2.5) (2021.10.8)\n",
            "Requirement already satisfied: urllib3!=1.25.0,!=1.25.1,<1.26,>=1.21.1 in /usr/local/lib/python3.7/dist-packages (from requests<3.0.0,>=2.13.0->spacy>=2.2.2->en_core_web_sm==2.2.5) (1.24.3)\n",
            "Requirement already satisfied: idna<3,>=2.5 in /usr/local/lib/python3.7/dist-packages (from requests<3.0.0,>=2.13.0->spacy>=2.2.2->en_core_web_sm==2.2.5) (2.10)\n",
            "Requirement already satisfied: chardet<4,>=3.0.2 in /usr/local/lib/python3.7/dist-packages (from requests<3.0.0,>=2.13.0->spacy>=2.2.2->en_core_web_sm==2.2.5) (3.0.4)\n",
            "\u001b[38;5;2m✔ Download and installation successful\u001b[0m\n",
            "You can now load the model via spacy.load('en_core_web_sm')\n"
          ]
        }
      ]
    },
    {
      "cell_type": "code",
      "source": [
        "#here, the necessary information is downloaded\n",
        "nlp = spacy.load('en_core_web_sm') "
      ],
      "metadata": {
        "id": "jMdSOfNGr-3s"
      },
      "execution_count": null,
      "outputs": []
    },
    {
      "cell_type": "code",
      "source": [
        "doc = nlp(' '.join(df['Albert_Einstein_wiki_cleaned'].loc[0]))"
      ],
      "metadata": {
        "id": "NvxHn0x8vapu"
      },
      "execution_count": null,
      "outputs": []
    },
    {
      "cell_type": "code",
      "source": [
        "#the cleaned text will now be lemmatized \n",
        "lemmatized = []\n",
        "for token in doc:\n",
        "    lemmatized.append(token.lemma_)"
      ],
      "metadata": {
        "id": "V9uCo4oIvEIS"
      },
      "execution_count": null,
      "outputs": []
    },
    {
      "cell_type": "code",
      "source": [
        "#add a new column for the data\n",
        "df['Albert_Einstein_wiki_cleaned_lemmatized'] = [lemmatized]"
      ],
      "metadata": {
        "id": "X87oSywEvEMt"
      },
      "execution_count": null,
      "outputs": []
    },
    {
      "cell_type": "markdown",
      "source": [
        "Here is a short comparison of what lemmatization does to the data:"
      ],
      "metadata": {
        "id": "kNHh6-EjC1G7"
      }
    },
    {
      "cell_type": "code",
      "source": [
        "df['Albert_Einstein_wiki_cleaned'][0][:10]"
      ],
      "metadata": {
        "colab": {
          "base_uri": "https://localhost:8080/"
        },
        "id": "kPXda9i9vET5",
        "outputId": "1a725002-b6fe-415a-92b0-fdab784b5826"
      },
      "execution_count": null,
      "outputs": [
        {
          "output_type": "execute_result",
          "data": {
            "text/plain": [
              "['albert',\n",
              " 'einstein',\n",
              " 'march',\n",
              " 'april',\n",
              " 'theoretical',\n",
              " 'widely',\n",
              " 'acknowledged',\n",
              " 'one',\n",
              " 'greatest',\n",
              " 'physicists']"
            ]
          },
          "metadata": {},
          "execution_count": 43
        }
      ]
    },
    {
      "cell_type": "code",
      "source": [
        "df['Albert_Einstein_wiki_cleaned_lemmatized'][0][:10]"
      ],
      "metadata": {
        "colab": {
          "base_uri": "https://localhost:8080/"
        },
        "id": "690Shay4vEQf",
        "outputId": "98f606ba-78e2-4acc-8abf-4ffa3c342956"
      },
      "execution_count": null,
      "outputs": [
        {
          "output_type": "execute_result",
          "data": {
            "text/plain": [
              "['albert',\n",
              " 'einstein',\n",
              " 'march',\n",
              " 'april',\n",
              " 'theoretical',\n",
              " 'widely',\n",
              " 'acknowledge',\n",
              " 'one',\n",
              " 'great',\n",
              " 'physicist']"
            ]
          },
          "metadata": {},
          "execution_count": 44
        }
      ]
    },
    {
      "cell_type": "markdown",
      "source": [
        "For instance, greatest is now great or acknowldged is now acknowledge. The input data is now cleaned and ready to use. This helps to improve the model. "
      ],
      "metadata": {
        "id": "zYVlAXsVDBoR"
      }
    },
    {
      "cell_type": "markdown",
      "source": [
        "### Compare most common words"
      ],
      "metadata": {
        "id": "FjVnKX1ar6cY"
      }
    },
    {
      "cell_type": "code",
      "source": [
        "#gives the most common words for the cleaned data \n",
        "Counter(df['Albert_Einstein_wiki_cleaned'].loc[0]).most_common(5)"
      ],
      "metadata": {
        "colab": {
          "base_uri": "https://localhost:8080/"
        },
        "id": "9nvzIFRjthXh",
        "outputId": "77489681-b928-4edb-a269-9484dc604858"
      },
      "execution_count": null,
      "outputs": [
        {
          "output_type": "execute_result",
          "data": {
            "text/plain": [
              "[('einstein', 180),\n",
              " ('theory', 41),\n",
              " ('quantum', 32),\n",
              " ('also', 28),\n",
              " ('general', 27)]"
            ]
          },
          "metadata": {},
          "execution_count": 45
        }
      ]
    },
    {
      "cell_type": "code",
      "source": [
        "##gives the most common words for the cleaned and lemmatized data\n",
        "Counter(df['Albert_Einstein_wiki_cleaned_lemmatized'].loc[0]).most_common(5)"
      ],
      "metadata": {
        "colab": {
          "base_uri": "https://localhost:8080/"
        },
        "id": "xq2iW0Nwxlnh",
        "outputId": "7dc3b253-6678-4ade-a0cb-c21fadd97884"
      },
      "execution_count": null,
      "outputs": [
        {
          "output_type": "execute_result",
          "data": {
            "text/plain": [
              "[('einstein', 180),\n",
              " ('theory', 41),\n",
              " ('quantum', 32),\n",
              " ('become', 31),\n",
              " ('also', 28)]"
            ]
          },
          "metadata": {},
          "execution_count": 46
        }
      ]
    },
    {
      "cell_type": "markdown",
      "source": [
        "One difference can directly be spotted, the word 'become' in the cleaned and lemmatized dataset is now in the top5 of the most frequent words. "
      ],
      "metadata": {
        "id": "Wzws6g-_Dn3J"
      }
    },
    {
      "cell_type": "markdown",
      "source": [
        "## Fit Word2Vec Model"
      ],
      "metadata": {
        "id": "5DdrkdjQY9AK"
      }
    },
    {
      "cell_type": "code",
      "source": [
        "#Here the Word2Vec Model is fitted using the preprocessed data.\n",
        "\n",
        "from gensim.models import Word2Vec\n",
        "\n",
        "# here are the paratemeters set\n",
        "feature_size = 100  # Word vector dimensionality\n",
        "window_context = 5  # Context window size\n",
        "min_word_count = 5  # Minimum word count\n",
        "\n",
        "#the lemmatized data is used for the model\n",
        "w2vmodel = Word2Vec(sentences=df['Albert_Einstein_wiki_cleaned_lemmatized'], size=feature_size, window=window_context, min_count=min_word_count, sg = 0)"
      ],
      "metadata": {
        "id": "LepWP589Mzsv"
      },
      "execution_count": null,
      "outputs": []
    },
    {
      "cell_type": "markdown",
      "source": [
        "## Most similiar words"
      ],
      "metadata": {
        "id": "qynun9UAsH1a"
      }
    },
    {
      "cell_type": "code",
      "source": [
        "#shows the most similiar words to physics according to the trained data\n",
        "w2vmodel.wv.most_similar('physics', topn=5)"
      ],
      "metadata": {
        "colab": {
          "base_uri": "https://localhost:8080/"
        },
        "id": "kue1-o2mV6pp",
        "outputId": "6a5e5e1d-f23d-49cd-92f3-c0c088dc1eca"
      },
      "execution_count": null,
      "outputs": [
        {
          "output_type": "execute_result",
          "data": {
            "text/plain": [
              "[('einstein', 0.7450204491615295),\n",
              " ('quantum', 0.6932543516159058),\n",
              " ('would', 0.6809624433517456),\n",
              " ('energy', 0.6724427938461304),\n",
              " ('make', 0.6704082489013672)]"
            ]
          },
          "metadata": {},
          "execution_count": 48
        }
      ]
    },
    {
      "cell_type": "markdown",
      "source": [
        "### Similiarities under the most common words"
      ],
      "metadata": {
        "id": "PtxYUaeTsUF3"
      }
    },
    {
      "cell_type": "code",
      "source": [
        "#get the 3 most common words\n",
        "most_common = dict(Counter(df['Albert_Einstein_wiki_cleaned_lemmatized'].loc[0]).most_common(3))"
      ],
      "metadata": {
        "id": "f2wJSI7rcnPa"
      },
      "execution_count": null,
      "outputs": []
    },
    {
      "cell_type": "code",
      "source": [
        "#returns the most common items and the frequency\n",
        "for key, value in most_common.items():\n",
        "    print(key, value)"
      ],
      "metadata": {
        "colab": {
          "base_uri": "https://localhost:8080/"
        },
        "id": "o6d-bU-AcnSn",
        "outputId": "01014d92-61fa-4862-dce3-ce794ceb27e6"
      },
      "execution_count": null,
      "outputs": [
        {
          "output_type": "stream",
          "name": "stdout",
          "text": [
            "einstein 180\n",
            "theory 41\n",
            "quantum 32\n"
          ]
        }
      ]
    },
    {
      "cell_type": "code",
      "source": [
        "def similiarities(topN, model):  \n",
        "  #get the most common words\n",
        "  most_common = dict(Counter(df['Albert_Einstein_wiki_cleaned_lemmatized'].loc[0]).most_common(topN))\n",
        "\n",
        "  #separate the keys from the values and put them into a list\n",
        "  global keys\n",
        "  keys = [key for key, value in most_common.items()]\n",
        "  values = [value for key, value in most_common.items()]\n",
        "\n",
        "  #returns the similiariy for each word to each word\n",
        "  counter = 0\n",
        "  for name1 in keys:\n",
        "    print(name1+\":\")\n",
        "    for name2 in keys:\n",
        "      #the similiarity of the word to itself is always 1\n",
        "      #therefore, it is skipped here\n",
        "      if name1 == name2:\n",
        "        continue\n",
        "      else:\n",
        "        #the fitted model is used here\n",
        "        sim = model.wv.similarity(keys[counter], name2)\n",
        "        print(\"\\t * to \"+ name2 +\" \\t: \"+str(sim))\n",
        "    counter += 1\n",
        "\n",
        "similiarities(3, w2vmodel)"
      ],
      "metadata": {
        "colab": {
          "base_uri": "https://localhost:8080/"
        },
        "id": "A9J4gZy1cMro",
        "outputId": "7a7b1542-6719-468a-a56f-09a4624b7875"
      },
      "execution_count": null,
      "outputs": [
        {
          "output_type": "stream",
          "name": "stdout",
          "text": [
            "einstein:\n",
            "\t * to theory \t: 0.8102441\n",
            "\t * to quantum \t: 0.767151\n",
            "theory:\n",
            "\t * to einstein \t: 0.8102441\n",
            "\t * to quantum \t: 0.7220715\n",
            "quantum:\n",
            "\t * to einstein \t: 0.767151\n",
            "\t * to theory \t: 0.7220715\n"
          ]
        }
      ]
    },
    {
      "cell_type": "markdown",
      "source": [
        "This shows the similarity according to our model of the topN (here 3) most used words."
      ],
      "metadata": {
        "id": "EHWGj_dRQ4gw"
      }
    },
    {
      "cell_type": "markdown",
      "source": [
        "### Similiar words to the most common words"
      ],
      "metadata": {
        "id": "P86v-I_BixNa"
      }
    },
    {
      "cell_type": "code",
      "source": [
        "#returns similiar words to the most common words according to the model\n",
        "\n",
        "def similiar_words(number_words, model): \n",
        "  similar_words = {\n",
        "      search_term:\n",
        "      [item[0] for item in model.wv.most_similar([search_term], topn=number_words)]\n",
        "      for search_term in keys #keys was defined before, here Top 3\n",
        "  }\n",
        "  return similar_words\n",
        "\n",
        "similiar_words(5, w2vmodel)"
      ],
      "metadata": {
        "colab": {
          "base_uri": "https://localhost:8080/"
        },
        "id": "fga5Rf37ix1p",
        "outputId": "12d63f71-7616-40ba-a1d3-12b499dabf09"
      },
      "execution_count": null,
      "outputs": [
        {
          "output_type": "execute_result",
          "data": {
            "text/plain": [
              "{'einstein': ['theory', 'use', 'result', 'quantum', 'light'],\n",
              " 'quantum': ['einstein', 'light', 'become', 'theory', 'would'],\n",
              " 'theory': ['einstein', 'use', 'also', 'would', 'quantum']}"
            ]
          },
          "metadata": {},
          "execution_count": 52
        }
      ]
    },
    {
      "cell_type": "markdown",
      "source": [
        "The model itselft is not perfect, which can be seen with the similarity suggestions, because it returns that 'german' is similiar to 'quantum'. In our everyday language usage, we would not describe these words as particularly similar. The reason for that is, that the input data size is not perfect. It should be bigger and be more balanced. But this is the model according to the data."
      ],
      "metadata": {
        "id": "eyt6TQO9YoX_"
      }
    },
    {
      "cell_type": "markdown",
      "source": [
        "## Visualization of embeddings"
      ],
      "metadata": {
        "id": "ZIHEFKJBshh7"
      }
    },
    {
      "cell_type": "code",
      "source": [
        "# word sample of the vovabulary\n",
        "words = w2vmodel.wv.index2word[140:350]  \n",
        "# return embeddings from word forms    \n",
        "wvs = w2vmodel.wv[words]                     \n",
        "\n",
        "#creates a TSNE object\n",
        "tsne = TSNE(n_components=2, random_state=0, n_iter=8000, perplexity=5) \n",
        "np.set_printoptions(suppress=True)\n",
        "T = tsne.fit_transform(wvs)\n",
        "labels = words\n",
        "\n",
        "#creates the plot\n",
        "plt.figure(figsize=(20, 10))\n",
        "plt.scatter(T[:, 0], T[:, 1], c='lightblue', edgecolors='b')\n",
        "for label, x, y in zip(labels, T[:, 0], T[:, 1]):\n",
        "    plt.annotate(label,\n",
        "                 xy=(x + 5, y + 5),\n",
        "                 xytext=(0, 0),\n",
        "                 textcoords='offset points')\n",
        "plt.show()"
      ],
      "metadata": {
        "id": "icV_AkAncnWN",
        "colab": {
          "base_uri": "https://localhost:8080/",
          "height": 638
        },
        "outputId": "d8a21262-b839-4c52-ad6f-f41c3b41278c"
      },
      "execution_count": null,
      "outputs": [
        {
          "output_type": "stream",
          "name": "stderr",
          "text": [
            "/usr/local/lib/python3.7/dist-packages/sklearn/manifold/_t_sne.py:783: FutureWarning: The default initialization in TSNE will change from 'random' to 'pca' in 1.2.\n",
            "  FutureWarning,\n",
            "/usr/local/lib/python3.7/dist-packages/sklearn/manifold/_t_sne.py:793: FutureWarning: The default learning rate in TSNE will change from 200.0 to 'auto' in 1.2.\n",
            "  FutureWarning,\n"
          ]
        },
        {
          "output_type": "display_data",
          "data": {
            "image/png": "[encoded data removed]",
            "text/plain": [
              "<Figure size 1440x720 with 1 Axes>"
            ]
          },
          "metadata": {
            "needs_background": "light"
          }
        }
      ]
    },
    {
      "cell_type": "markdown",
      "source": [
        "Here it can also be visually confirmed that the model is not perfect, as some words are shown in close proximity which are not necessarily similar in reality."
      ],
      "metadata": {
        "id": "w7h35tmcbGNd"
      }
    },
    {
      "cell_type": "markdown",
      "source": [
        "# Comparison with a pretrained model"
      ],
      "metadata": {
        "id": "w62lIfhYspD4"
      }
    },
    {
      "cell_type": "code",
      "source": [
        "# This downloads the pretrained Glove embeddings\n",
        "\n",
        "glove_vectors = api.load(\"glove-wiki-gigaword-100\")    "
      ],
      "metadata": {
        "id": "xb_UPEtDsu_4"
      },
      "execution_count": null,
      "outputs": []
    },
    {
      "cell_type": "code",
      "source": [
        "w2vmodel.wv.most_similar('physics', topn=5)"
      ],
      "metadata": {
        "colab": {
          "base_uri": "https://localhost:8080/"
        },
        "id": "Yz9q6FEdppXQ",
        "outputId": "3afd41c9-add9-4169-eb75-cadf362e9861"
      },
      "execution_count": null,
      "outputs": [
        {
          "output_type": "execute_result",
          "data": {
            "text/plain": [
              "[('einstein', 0.7450204491615295),\n",
              " ('quantum', 0.6932543516159058),\n",
              " ('would', 0.6809624433517456),\n",
              " ('energy', 0.6724427938461304),\n",
              " ('make', 0.6704082489013672)]"
            ]
          },
          "metadata": {},
          "execution_count": 55
        }
      ]
    },
    {
      "cell_type": "code",
      "source": [
        "glove_vectors.most_similar('physics', topn=5)"
      ],
      "metadata": {
        "id": "AL0pdeIMsvV5",
        "colab": {
          "base_uri": "https://localhost:8080/"
        },
        "outputId": "da28c822-289d-49da-eb4b-badffd0b8bef"
      },
      "execution_count": null,
      "outputs": [
        {
          "output_type": "execute_result",
          "data": {
            "text/plain": [
              "[('chemistry', 0.8498000502586365),\n",
              " ('mathematics', 0.834094762802124),\n",
              " ('science', 0.7914698719978333),\n",
              " ('biology', 0.7894973158836365),\n",
              " ('theoretical', 0.7342938780784607)]"
            ]
          },
          "metadata": {},
          "execution_count": 56
        }
      ]
    },
    {
      "cell_type": "markdown",
      "source": [
        "Here, it can be seen that the pre-trained model performes better, because 'chemistry', 'mathematics', 'science', 'biology' and 'theoretical' sounds naturally more similiar to 'physics' than the other words 'einstein', 'theory', 'quantum', 'use' and 'new'. Also, the scores are better from the pre-trained model."
      ],
      "metadata": {
        "id": "pOzK6z4veZl6"
      }
    },
    {
      "cell_type": "code",
      "source": [
        "#returns the similiarities from the topN most common words (here 3) according to the just trained word2vec model\n",
        "similiarities(3, w2vmodel)"
      ],
      "metadata": {
        "colab": {
          "base_uri": "https://localhost:8080/"
        },
        "id": "16eWbC_XfOKP",
        "outputId": "a6d8866e-26dd-4468-bc94-ca66dfeb4cda"
      },
      "execution_count": null,
      "outputs": [
        {
          "output_type": "stream",
          "name": "stdout",
          "text": [
            "einstein:\n",
            "\t * to theory \t: 0.8102441\n",
            "\t * to quantum \t: 0.767151\n",
            "theory:\n",
            "\t * to einstein \t: 0.8102441\n",
            "\t * to quantum \t: 0.7220715\n",
            "quantum:\n",
            "\t * to einstein \t: 0.767151\n",
            "\t * to theory \t: 0.7220715\n"
          ]
        }
      ]
    },
    {
      "cell_type": "code",
      "source": [
        "#returns the similiarities from the topN most common words (here 3) according to the just downloaded pretrained glove_vectors model\n",
        "similiarities(3, glove_vectors)"
      ],
      "metadata": {
        "colab": {
          "base_uri": "https://localhost:8080/"
        },
        "id": "q1VVTfd5fgc2",
        "outputId": "07d9b796-f4be-46e4-cff3-7b50aa2adaa5"
      },
      "execution_count": null,
      "outputs": [
        {
          "output_type": "stream",
          "name": "stdout",
          "text": [
            "einstein:\n",
            "\t * to theory \t: 0.6042599\n",
            "\t * to quantum \t: 0.5993835\n",
            "theory:\n",
            "\t * to einstein \t: 0.6042599\n",
            "\t * to quantum \t: 0.6607037\n",
            "quantum:\n",
            "\t * to einstein \t: 0.5993835\n",
            "\t * to theory \t: 0.6607037\n"
          ]
        },
        {
          "output_type": "stream",
          "name": "stderr",
          "text": [
            "/usr/local/lib/python3.7/dist-packages/ipykernel_launcher.py:21: DeprecationWarning: Call to deprecated `wv` (Attribute will be removed in 4.0.0, use self instead).\n"
          ]
        }
      ]
    },
    {
      "cell_type": "markdown",
      "source": [
        "The scores from the pre-trained model are lower than from the word2vec model, this makes sense, because the pre-trained model does not indicate strong similiarities between the words. The scores for the word2vec model are higher, because of the limited input data."
      ],
      "metadata": {
        "id": "z6sRKs0XfoHC"
      }
    },
    {
      "cell_type": "code",
      "source": [
        "similiar_words(4, w2vmodel)"
      ],
      "metadata": {
        "colab": {
          "base_uri": "https://localhost:8080/"
        },
        "id": "5JXntfrXjBGE",
        "outputId": "63de7d84-21e3-4c25-dc77-9e773d5e793a"
      },
      "execution_count": null,
      "outputs": [
        {
          "output_type": "execute_result",
          "data": {
            "text/plain": [
              "{'einstein': ['theory', 'use', 'result', 'quantum'],\n",
              " 'quantum': ['einstein', 'light', 'become', 'theory'],\n",
              " 'theory': ['einstein', 'use', 'also', 'would']}"
            ]
          },
          "metadata": {},
          "execution_count": 59
        }
      ]
    },
    {
      "cell_type": "code",
      "source": [
        "similiar_words(4, glove_vectors)"
      ],
      "metadata": {
        "colab": {
          "base_uri": "https://localhost:8080/"
        },
        "id": "giC7Cq4zjBRo",
        "outputId": "b2d7f3f4-5b00-449b-ed09-663fe4ca671b"
      },
      "execution_count": null,
      "outputs": [
        {
          "output_type": "stream",
          "name": "stderr",
          "text": [
            "/usr/local/lib/python3.7/dist-packages/ipykernel_launcher.py:7: DeprecationWarning: Call to deprecated `wv` (Attribute will be removed in 4.0.0, use self instead).\n",
            "  import sys\n"
          ]
        },
        {
          "output_type": "execute_result",
          "data": {
            "text/plain": [
              "{'einstein': ['relativity', 'freud', 'physics', 'bohr'],\n",
              " 'quantum': ['electrodynamics', 'relativity', 'gravity', 'mathematical'],\n",
              " 'theory': ['theories', 'concept', 'evolution', 'hypothesis']}"
            ]
          },
          "metadata": {},
          "execution_count": 60
        }
      ]
    },
    {
      "cell_type": "markdown",
      "source": [
        "Here, the pre-trained model gives other similiar words to the most common words than the word2vec model. The glove_vector model connects 'einstein' with 'relativity' and 'physics' but also to other famous scientist like 'bohr' or 'freud'.  \n",
        "\n",
        "\n",
        "To sum up the comparison, the generated model is not as good as the pre-trained model. The reason for that is the limited input data, as only one wikipedia article was used to generate this model. Furthermore, the word2vec model perform very bad for topics outside of this wikipedia article or it is simlpy not possible to run the code. For instance, the word2vec model is not capable to show similiar words to e.g. 'arts', because it is outside of the scope of this model. Therefore, the model has to be further trained to be able to compete with other pre-trained models. "
      ],
      "metadata": {
        "id": "2pc1CrnYjxuY"
      }
    },
    {
      "cell_type": "markdown",
      "source": [
        "# Reflection"
      ],
      "metadata": {
        "id": "eFQw_3I4gXG1"
      }
    },
    {
      "cell_type": "markdown",
      "source": [
        "With this task a first Word2vec model could be fitted. The model was trained with the help of a Wikipedia article from Albert Einstein, which also showed that the input data is also decisive for how good the model is. Compared to an already trained model, the model generated here is not as good. The reasons for this have already been mentioned above.  \n",
        "\n",
        "It was also exciting to turn linguistic sentences into vectors and then to work with them. I learned that word similarities can also be calculated and represented mathematically."
      ],
      "metadata": {
        "id": "96AZPhMIgeWf"
      }
    }
  ]
}