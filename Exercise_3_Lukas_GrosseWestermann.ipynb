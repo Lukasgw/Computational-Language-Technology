{
  "nbformat": 4,
  "nbformat_minor": 0,
  "metadata": {
    "colab": {
      "name": "Exercise_3_Lukas_GrosseWestermann",
      "provenance": [],
      "collapsed_sections": [
        "rgzcrg2_lEeQ"
      ],
      "toc_visible": true
    },
    "kernelspec": {
      "name": "python3",
      "display_name": "Python 3"
    },
    "language_info": {
      "name": "python"
    }
  },
  "cells": [
    {
      "cell_type": "markdown",
      "source": [
        "**Name:** Lukas Große Westermann  \n",
        "**Exercise:** 3  \n",
        "**Subject**: Computational Language Technologies"
      ],
      "metadata": {
        "id": "-xfRV8cnrQcG"
      }
    },
    {
      "cell_type": "markdown",
      "source": [
        "In the following, the conllpp dataset is downloaded from huggingface, which is then used for later tasks."
      ],
      "metadata": {
        "id": "rvkhSb4ScpTq"
      }
    },
    {
      "cell_type": "markdown",
      "source": [
        "# Setup"
      ],
      "metadata": {
        "id": "ddiUE_ajrSKA"
      }
    },
    {
      "cell_type": "code",
      "source": [
        "!pip install datasets\n",
        "!python -m spacy download en_core_web_sm\n",
        "!pip install seqeval"
      ],
      "metadata": {
        "id": "9lhvGruOrR4Z",
        "colab": {
          "base_uri": "https://localhost:8080/"
        },
        "outputId": "9bbb0ac6-862b-4333-b8dc-39699e9ecfe4"
      },
      "execution_count": null,
      "outputs": [
        {
          "output_type": "stream",
          "name": "stdout",
          "text": [
            "Requirement already satisfied: datasets in /usr/local/lib/python3.7/dist-packages (1.17.0)\n",
            "Requirement already satisfied: requests>=2.19.0 in /usr/local/lib/python3.7/dist-packages (from datasets) (2.23.0)\n",
            "Requirement already satisfied: dill in /usr/local/lib/python3.7/dist-packages (from datasets) (0.3.4)\n",
            "Requirement already satisfied: numpy>=1.17 in /usr/local/lib/python3.7/dist-packages (from datasets) (1.19.5)\n",
            "Requirement already satisfied: packaging in /usr/local/lib/python3.7/dist-packages (from datasets) (21.3)\n",
            "Requirement already satisfied: importlib-metadata in /usr/local/lib/python3.7/dist-packages (from datasets) (4.10.0)\n",
            "Requirement already satisfied: pyarrow!=4.0.0,>=3.0.0 in /usr/local/lib/python3.7/dist-packages (from datasets) (3.0.0)\n",
            "Requirement already satisfied: xxhash in /usr/local/lib/python3.7/dist-packages (from datasets) (2.0.2)\n",
            "Requirement already satisfied: huggingface-hub<1.0.0,>=0.1.0 in /usr/local/lib/python3.7/dist-packages (from datasets) (0.4.0)\n",
            "Requirement already satisfied: aiohttp in /usr/local/lib/python3.7/dist-packages (from datasets) (3.8.1)\n",
            "Requirement already satisfied: multiprocess in /usr/local/lib/python3.7/dist-packages (from datasets) (0.70.12.2)\n",
            "Requirement already satisfied: tqdm>=4.62.1 in /usr/local/lib/python3.7/dist-packages (from datasets) (4.62.3)\n",
            "Requirement already satisfied: fsspec[http]>=2021.05.0 in /usr/local/lib/python3.7/dist-packages (from datasets) (2022.1.0)\n",
            "Requirement already satisfied: pandas in /usr/local/lib/python3.7/dist-packages (from datasets) (1.1.5)\n",
            "Requirement already satisfied: typing-extensions>=3.7.4.3 in /usr/local/lib/python3.7/dist-packages (from huggingface-hub<1.0.0,>=0.1.0->datasets) (3.10.0.2)\n",
            "Requirement already satisfied: filelock in /usr/local/lib/python3.7/dist-packages (from huggingface-hub<1.0.0,>=0.1.0->datasets) (3.4.2)\n",
            "Requirement already satisfied: pyyaml in /usr/local/lib/python3.7/dist-packages (from huggingface-hub<1.0.0,>=0.1.0->datasets) (3.13)\n",
            "Requirement already satisfied: pyparsing!=3.0.5,>=2.0.2 in /usr/local/lib/python3.7/dist-packages (from packaging->datasets) (3.0.6)\n",
            "Requirement already satisfied: urllib3!=1.25.0,!=1.25.1,<1.26,>=1.21.1 in /usr/local/lib/python3.7/dist-packages (from requests>=2.19.0->datasets) (1.24.3)\n",
            "Requirement already satisfied: certifi>=2017.4.17 in /usr/local/lib/python3.7/dist-packages (from requests>=2.19.0->datasets) (2021.10.8)\n",
            "Requirement already satisfied: chardet<4,>=3.0.2 in /usr/local/lib/python3.7/dist-packages (from requests>=2.19.0->datasets) (3.0.4)\n",
            "Requirement already satisfied: idna<3,>=2.5 in /usr/local/lib/python3.7/dist-packages (from requests>=2.19.0->datasets) (2.10)\n",
            "Requirement already satisfied: frozenlist>=1.1.1 in /usr/local/lib/python3.7/dist-packages (from aiohttp->datasets) (1.2.0)\n",
            "Requirement already satisfied: aiosignal>=1.1.2 in /usr/local/lib/python3.7/dist-packages (from aiohttp->datasets) (1.2.0)\n",
            "Requirement already satisfied: asynctest==0.13.0 in /usr/local/lib/python3.7/dist-packages (from aiohttp->datasets) (0.13.0)\n",
            "Requirement already satisfied: attrs>=17.3.0 in /usr/local/lib/python3.7/dist-packages (from aiohttp->datasets) (21.4.0)\n",
            "Requirement already satisfied: async-timeout<5.0,>=4.0.0a3 in /usr/local/lib/python3.7/dist-packages (from aiohttp->datasets) (4.0.2)\n",
            "Requirement already satisfied: multidict<7.0,>=4.5 in /usr/local/lib/python3.7/dist-packages (from aiohttp->datasets) (5.2.0)\n",
            "Requirement already satisfied: yarl<2.0,>=1.0 in /usr/local/lib/python3.7/dist-packages (from aiohttp->datasets) (1.7.2)\n",
            "Requirement already satisfied: charset-normalizer<3.0,>=2.0 in /usr/local/lib/python3.7/dist-packages (from aiohttp->datasets) (2.0.10)\n",
            "Requirement already satisfied: zipp>=0.5 in /usr/local/lib/python3.7/dist-packages (from importlib-metadata->datasets) (3.7.0)\n",
            "Requirement already satisfied: python-dateutil>=2.7.3 in /usr/local/lib/python3.7/dist-packages (from pandas->datasets) (2.8.2)\n",
            "Requirement already satisfied: pytz>=2017.2 in /usr/local/lib/python3.7/dist-packages (from pandas->datasets) (2018.9)\n",
            "Requirement already satisfied: six>=1.5 in /usr/local/lib/python3.7/dist-packages (from python-dateutil>=2.7.3->pandas->datasets) (1.15.0)\n",
            "Collecting en_core_web_sm==2.2.5\n",
            "  Downloading https://github.com/explosion/spacy-models/releases/download/en_core_web_sm-2.2.5/en_core_web_sm-2.2.5.tar.gz (12.0 MB)\n",
            "\u001b[K     |████████████████████████████████| 12.0 MB 20.1 MB/s \n",
            "\u001b[?25hRequirement already satisfied: spacy>=2.2.2 in /usr/local/lib/python3.7/dist-packages (from en_core_web_sm==2.2.5) (2.2.4)\n",
            "Requirement already satisfied: blis<0.5.0,>=0.4.0 in /usr/local/lib/python3.7/dist-packages (from spacy>=2.2.2->en_core_web_sm==2.2.5) (0.4.1)\n",
            "Requirement already satisfied: requests<3.0.0,>=2.13.0 in /usr/local/lib/python3.7/dist-packages (from spacy>=2.2.2->en_core_web_sm==2.2.5) (2.23.0)\n",
            "Requirement already satisfied: plac<1.2.0,>=0.9.6 in /usr/local/lib/python3.7/dist-packages (from spacy>=2.2.2->en_core_web_sm==2.2.5) (1.1.3)\n",
            "Requirement already satisfied: catalogue<1.1.0,>=0.0.7 in /usr/local/lib/python3.7/dist-packages (from spacy>=2.2.2->en_core_web_sm==2.2.5) (1.0.0)\n",
            "Requirement already satisfied: srsly<1.1.0,>=1.0.2 in /usr/local/lib/python3.7/dist-packages (from spacy>=2.2.2->en_core_web_sm==2.2.5) (1.0.5)\n",
            "Requirement already satisfied: wasabi<1.1.0,>=0.4.0 in /usr/local/lib/python3.7/dist-packages (from spacy>=2.2.2->en_core_web_sm==2.2.5) (0.9.0)\n",
            "Requirement already satisfied: murmurhash<1.1.0,>=0.28.0 in /usr/local/lib/python3.7/dist-packages (from spacy>=2.2.2->en_core_web_sm==2.2.5) (1.0.6)\n",
            "Requirement already satisfied: tqdm<5.0.0,>=4.38.0 in /usr/local/lib/python3.7/dist-packages (from spacy>=2.2.2->en_core_web_sm==2.2.5) (4.62.3)\n",
            "Requirement already satisfied: cymem<2.1.0,>=2.0.2 in /usr/local/lib/python3.7/dist-packages (from spacy>=2.2.2->en_core_web_sm==2.2.5) (2.0.6)\n",
            "Requirement already satisfied: setuptools in /usr/local/lib/python3.7/dist-packages (from spacy>=2.2.2->en_core_web_sm==2.2.5) (57.4.0)\n",
            "Requirement already satisfied: preshed<3.1.0,>=3.0.2 in /usr/local/lib/python3.7/dist-packages (from spacy>=2.2.2->en_core_web_sm==2.2.5) (3.0.6)\n",
            "Requirement already satisfied: numpy>=1.15.0 in /usr/local/lib/python3.7/dist-packages (from spacy>=2.2.2->en_core_web_sm==2.2.5) (1.19.5)\n",
            "Requirement already satisfied: thinc==7.4.0 in /usr/local/lib/python3.7/dist-packages (from spacy>=2.2.2->en_core_web_sm==2.2.5) (7.4.0)\n",
            "Requirement already satisfied: importlib-metadata>=0.20 in /usr/local/lib/python3.7/dist-packages (from catalogue<1.1.0,>=0.0.7->spacy>=2.2.2->en_core_web_sm==2.2.5) (4.10.0)\n",
            "Requirement already satisfied: typing-extensions>=3.6.4 in /usr/local/lib/python3.7/dist-packages (from importlib-metadata>=0.20->catalogue<1.1.0,>=0.0.7->spacy>=2.2.2->en_core_web_sm==2.2.5) (3.10.0.2)\n",
            "Requirement already satisfied: zipp>=0.5 in /usr/local/lib/python3.7/dist-packages (from importlib-metadata>=0.20->catalogue<1.1.0,>=0.0.7->spacy>=2.2.2->en_core_web_sm==2.2.5) (3.7.0)\n",
            "Requirement already satisfied: urllib3!=1.25.0,!=1.25.1,<1.26,>=1.21.1 in /usr/local/lib/python3.7/dist-packages (from requests<3.0.0,>=2.13.0->spacy>=2.2.2->en_core_web_sm==2.2.5) (1.24.3)\n",
            "Requirement already satisfied: certifi>=2017.4.17 in /usr/local/lib/python3.7/dist-packages (from requests<3.0.0,>=2.13.0->spacy>=2.2.2->en_core_web_sm==2.2.5) (2021.10.8)\n",
            "Requirement already satisfied: idna<3,>=2.5 in /usr/local/lib/python3.7/dist-packages (from requests<3.0.0,>=2.13.0->spacy>=2.2.2->en_core_web_sm==2.2.5) (2.10)\n",
            "Requirement already satisfied: chardet<4,>=3.0.2 in /usr/local/lib/python3.7/dist-packages (from requests<3.0.0,>=2.13.0->spacy>=2.2.2->en_core_web_sm==2.2.5) (3.0.4)\n",
            "\u001b[38;5;2m✔ Download and installation successful\u001b[0m\n",
            "You can now load the model via spacy.load('en_core_web_sm')\n",
            "Requirement already satisfied: seqeval in /usr/local/lib/python3.7/dist-packages (1.2.2)\n",
            "Requirement already satisfied: scikit-learn>=0.21.3 in /usr/local/lib/python3.7/dist-packages (from seqeval) (1.0.2)\n",
            "Requirement already satisfied: numpy>=1.14.0 in /usr/local/lib/python3.7/dist-packages (from seqeval) (1.19.5)\n",
            "Requirement already satisfied: scipy>=1.1.0 in /usr/local/lib/python3.7/dist-packages (from scikit-learn>=0.21.3->seqeval) (1.4.1)\n",
            "Requirement already satisfied: threadpoolctl>=2.0.0 in /usr/local/lib/python3.7/dist-packages (from scikit-learn>=0.21.3->seqeval) (3.0.0)\n",
            "Requirement already satisfied: joblib>=0.11 in /usr/local/lib/python3.7/dist-packages (from scikit-learn>=0.21.3->seqeval) (1.1.0)\n"
          ]
        }
      ]
    },
    {
      "cell_type": "code",
      "source": [
        "# Import of required modules\n",
        "from typing import List, Dict\n",
        "from collections import namedtuple\n",
        "from datasets import load_dataset, get_dataset_split_names\n",
        "import pandas as pd\n",
        "import itertools\n",
        "from collections import Counter\n",
        "from sklearn import metrics\n",
        "from seqeval.metrics import classification_report\n",
        "from seqeval.scheme import IOB2\n",
        "import spacy\n",
        "from spacy import displacy"
      ],
      "metadata": {
        "id": "v_zdxKFGraNX"
      },
      "execution_count": null,
      "outputs": []
    },
    {
      "cell_type": "markdown",
      "source": [
        "# Import of Dataset"
      ],
      "metadata": {
        "id": "OMJa28D0hYqo"
      }
    },
    {
      "cell_type": "markdown",
      "source": [
        "For the third task, the dataset from class is used again. The goal of this task is to conduct a NER analysis."
      ],
      "metadata": {
        "id": "N7Hgf52f2F-g"
      }
    },
    {
      "cell_type": "code",
      "source": [
        "#this is the dataset from huggingface\n",
        "dataset = 'conllpp'"
      ],
      "metadata": {
        "id": "gY4gr9BdnEvN"
      },
      "execution_count": null,
      "outputs": []
    },
    {
      "cell_type": "code",
      "source": [
        "#return possible split names\n",
        "get_dataset_split_names(dataset)"
      ],
      "metadata": {
        "id": "9B0U052HraTL",
        "colab": {
          "base_uri": "https://localhost:8080/"
        },
        "outputId": "4b788d10-498b-4c2c-b6b4-6749cc532300"
      },
      "execution_count": null,
      "outputs": [
        {
          "output_type": "execute_result",
          "data": {
            "text/plain": [
              "['train', 'validation', 'test']"
            ]
          },
          "metadata": {},
          "execution_count": 32
        }
      ]
    },
    {
      "cell_type": "code",
      "source": [
        "def import_dataset(dataset,split):\n",
        "  #import of the dataset, the test split is used here\n",
        "  try:\n",
        "    global test\n",
        "    test = load_dataset(dataset, split = split)\n",
        "    rows, columns = test.shape\n",
        "    print(f'\\nThe dataset is successfully imported, it consists of {rows} rows and {columns} columns.\\n')\n",
        "    return test\n",
        "  except:\n",
        "    print(\"The dataset is not imported\")\n",
        "\n",
        "import_dataset(dataset, 'test')"
      ],
      "metadata": {
        "id": "bzJ9JPMlraf4",
        "colab": {
          "base_uri": "https://localhost:8080/"
        },
        "outputId": "bb7f3d89-f1e1-4eda-aef7-46045a7fbc01"
      },
      "execution_count": null,
      "outputs": [
        {
          "output_type": "stream",
          "name": "stderr",
          "text": [
            "WARNING:datasets.builder:Reusing dataset conllpp (/root/.cache/huggingface/datasets/conllpp/conllpp/1.0.0/04f15f257dff3fe0fb36e049b73d51ecdf382698682f5e590b7fb13898206ba2)\n"
          ]
        },
        {
          "output_type": "stream",
          "name": "stdout",
          "text": [
            "\n",
            "The dataset is successfully imported, it consists of 3453 rows and 5 columns.\n",
            "\n"
          ]
        },
        {
          "output_type": "execute_result",
          "data": {
            "text/plain": [
              "Dataset({\n",
              "    features: ['id', 'tokens', 'pos_tags', 'chunk_tags', 'ner_tags'],\n",
              "    num_rows: 3453\n",
              "})"
            ]
          },
          "metadata": {},
          "execution_count": 33
        }
      ]
    },
    {
      "cell_type": "markdown",
      "source": [
        "# Analysis"
      ],
      "metadata": {
        "id": "YuN05swjaD_Y"
      }
    },
    {
      "cell_type": "markdown",
      "source": [
        "## Creating the Dataframe"
      ],
      "metadata": {
        "id": "Xp--LM4Bh9Ab"
      }
    },
    {
      "cell_type": "code",
      "source": [
        "#selecting only the needed columns\n",
        "df = pd.DataFrame(test, columns=[\"tokens\", 'ner_tags'])\n",
        "df.head()"
      ],
      "metadata": {
        "id": "QOhmAoHarao0",
        "colab": {
          "base_uri": "https://localhost:8080/",
          "height": 634
        },
        "outputId": "7b3ec882-83e8-46c1-9d1b-fd2358eb20d0"
      },
      "execution_count": null,
      "outputs": [
        {
          "output_type": "execute_result",
          "data": {
            "text/html": [
              "\n",
              "  <div id=\"df-cc2eb64f-1638-4d81-b5cc-76d476fe7bb3\">\n",
              "    <div class=\"colab-df-container\">\n",
              "      <div>\n",
              "<style scoped>\n",
              "    .dataframe tbody tr th:only-of-type {\n",
              "        vertical-align: middle;\n",
              "    }\n",
              "\n",
              "    .dataframe tbody tr th {\n",
              "        vertical-align: top;\n",
              "    }\n",
              "\n",
              "    .dataframe thead th {\n",
              "        text-align: right;\n",
              "    }\n",
              "</style>\n",
              "<table border=\"1\" class=\"dataframe\">\n",
              "  <thead>\n",
              "    <tr style=\"text-align: right;\">\n",
              "      <th></th>\n",
              "      <th>tokens</th>\n",
              "      <th>ner_tags</th>\n",
              "    </tr>\n",
              "  </thead>\n",
              "  <tbody>\n",
              "    <tr>\n",
              "      <th>0</th>\n",
              "      <td>[SOCCER, -, JAPAN, GET, LUCKY, WIN, ,, CHINA, ...</td>\n",
              "      <td>[0, 0, 5, 0, 0, 0, 0, 5, 0, 0, 0, 0]</td>\n",
              "    </tr>\n",
              "    <tr>\n",
              "      <th>1</th>\n",
              "      <td>[Nadim, Ladki]</td>\n",
              "      <td>[1, 2]</td>\n",
              "    </tr>\n",
              "    <tr>\n",
              "      <th>2</th>\n",
              "      <td>[AL-AIN, ,, United, Arab, Emirates, 1996-12-06]</td>\n",
              "      <td>[5, 0, 5, 6, 6, 0]</td>\n",
              "    </tr>\n",
              "    <tr>\n",
              "      <th>3</th>\n",
              "      <td>[Japan, began, the, defence, of, their, Asian,...</td>\n",
              "      <td>[5, 0, 0, 0, 0, 0, 7, 8, 0, 0, 0, 0, 0, 0, 0, ...</td>\n",
              "    </tr>\n",
              "    <tr>\n",
              "      <th>4</th>\n",
              "      <td>[But, China, saw, their, luck, desert, them, i...</td>\n",
              "      <td>[0, 5, 0, 0, 0, 0, 0, 0, 0, 0, 0, 0, 0, 0, 0, ...</td>\n",
              "    </tr>\n",
              "  </tbody>\n",
              "</table>\n",
              "</div>\n",
              "      <button class=\"colab-df-convert\" onclick=\"convertToInteractive('df-cc2eb64f-1638-4d81-b5cc-76d476fe7bb3')\"\n",
              "              title=\"Convert this dataframe to an interactive table.\"\n",
              "              style=\"display:none;\">\n",
              "        \n",
              "  <svg xmlns=\"http://www.w3.org/2000/svg\" height=\"24px\"viewBox=\"0 0 24 24\"\n",
              "       width=\"24px\">\n",
              "    <path d=\"M0 0h24v24H0V0z\" fill=\"none\"/>\n",
              "    <path d=\"M18.56 5.44l.94 2.06.94-2.06 2.06-.94-2.06-.94-.94-2.06-.94 2.06-2.06.94zm-11 1L8.5 8.5l.94-2.06 2.06-.94-2.06-.94L8.5 2.5l-.94 2.06-2.06.94zm10 10l.94 2.06.94-2.06 2.06-.94-2.06-.94-.94-2.06-.94 2.06-2.06.94z\"/><path d=\"M17.41 7.96l-1.37-1.37c-.4-.4-.92-.59-1.43-.59-.52 0-1.04.2-1.43.59L10.3 9.45l-7.72 7.72c-.78.78-.78 2.05 0 2.83L4 21.41c.39.39.9.59 1.41.59.51 0 1.02-.2 1.41-.59l7.78-7.78 2.81-2.81c.8-.78.8-2.07 0-2.86zM5.41 20L4 18.59l7.72-7.72 1.47 1.35L5.41 20z\"/>\n",
              "  </svg>\n",
              "      </button>\n",
              "      \n",
              "  <style>\n",
              "    .colab-df-container {\n",
              "      display:flex;\n",
              "      flex-wrap:wrap;\n",
              "      gap: 12px;\n",
              "    }\n",
              "\n",
              "    .colab-df-convert {\n",
              "      background-color: #E8F0FE;\n",
              "      border: none;\n",
              "      border-radius: 50%;\n",
              "      cursor: pointer;\n",
              "      display: none;\n",
              "      fill: #1967D2;\n",
              "      height: 32px;\n",
              "      padding: 0 0 0 0;\n",
              "      width: 32px;\n",
              "    }\n",
              "\n",
              "    .colab-df-convert:hover {\n",
              "      background-color: #E2EBFA;\n",
              "      box-shadow: 0px 1px 2px rgba(60, 64, 67, 0.3), 0px 1px 3px 1px rgba(60, 64, 67, 0.15);\n",
              "      fill: #174EA6;\n",
              "    }\n",
              "\n",
              "    [theme=dark] .colab-df-convert {\n",
              "      background-color: #3B4455;\n",
              "      fill: #D2E3FC;\n",
              "    }\n",
              "\n",
              "    [theme=dark] .colab-df-convert:hover {\n",
              "      background-color: #434B5C;\n",
              "      box-shadow: 0px 1px 3px 1px rgba(0, 0, 0, 0.15);\n",
              "      filter: drop-shadow(0px 1px 2px rgba(0, 0, 0, 0.3));\n",
              "      fill: #FFFFFF;\n",
              "    }\n",
              "  </style>\n",
              "\n",
              "      <script>\n",
              "        const buttonEl =\n",
              "          document.querySelector('#df-cc2eb64f-1638-4d81-b5cc-76d476fe7bb3 button.colab-df-convert');\n",
              "        buttonEl.style.display =\n",
              "          google.colab.kernel.accessAllowed ? 'block' : 'none';\n",
              "\n",
              "        async function convertToInteractive(key) {\n",
              "          const element = document.querySelector('#df-cc2eb64f-1638-4d81-b5cc-76d476fe7bb3');\n",
              "          const dataTable =\n",
              "            await google.colab.kernel.invokeFunction('convertToInteractive',\n",
              "                                                     [key], {});\n",
              "          if (!dataTable) return;\n",
              "\n",
              "          const docLinkHtml = 'Like what you see? Visit the ' +\n",
              "            '<a target=\"_blank\" href=https://colab.research.google.com/notebooks/data_table.ipynb>data table notebook</a>'\n",
              "            + ' to learn more about interactive tables.';\n",
              "          element.innerHTML = '';\n",
              "          dataTable['output_type'] = 'display_data';\n",
              "          await google.colab.output.renderOutput(dataTable, element);\n",
              "          const docLink = document.createElement('div');\n",
              "          docLink.innerHTML = docLinkHtml;\n",
              "          element.appendChild(docLink);\n",
              "        }\n",
              "      </script>\n",
              "    </div>\n",
              "  </div>\n",
              "  "
            ],
            "text/plain": [
              "                                              tokens                                           ner_tags\n",
              "0  [SOCCER, -, JAPAN, GET, LUCKY, WIN, ,, CHINA, ...               [0, 0, 5, 0, 0, 0, 0, 5, 0, 0, 0, 0]\n",
              "1                                     [Nadim, Ladki]                                             [1, 2]\n",
              "2    [AL-AIN, ,, United, Arab, Emirates, 1996-12-06]                                 [5, 0, 5, 6, 6, 0]\n",
              "3  [Japan, began, the, defence, of, their, Asian,...  [5, 0, 0, 0, 0, 0, 7, 8, 0, 0, 0, 0, 0, 0, 0, ...\n",
              "4  [But, China, saw, their, luck, desert, them, i...  [0, 5, 0, 0, 0, 0, 0, 0, 0, 0, 0, 0, 0, 0, 0, ..."
            ]
          },
          "metadata": {},
          "execution_count": 34
        }
      ]
    },
    {
      "cell_type": "code",
      "source": [
        "#example tokens (first entry)\n",
        "df['tokens'].loc[0]"
      ],
      "metadata": {
        "id": "0qUxX5umrasB",
        "colab": {
          "base_uri": "https://localhost:8080/"
        },
        "outputId": "9c0f9928-7dc3-4a1b-b453-24b7939c99cd"
      },
      "execution_count": null,
      "outputs": [
        {
          "output_type": "execute_result",
          "data": {
            "text/plain": [
              "['SOCCER',\n",
              " '-',\n",
              " 'JAPAN',\n",
              " 'GET',\n",
              " 'LUCKY',\n",
              " 'WIN',\n",
              " ',',\n",
              " 'CHINA',\n",
              " 'IN',\n",
              " 'SURPRISE',\n",
              " 'DEFEAT',\n",
              " '.']"
            ]
          },
          "metadata": {},
          "execution_count": 35
        }
      ]
    },
    {
      "cell_type": "code",
      "source": [
        "#create a sentence from the first entry of the tokens\n",
        "' '.join(df.iloc[0].tokens)"
      ],
      "metadata": {
        "id": "C6HEbV3QiieO",
        "colab": {
          "base_uri": "https://localhost:8080/",
          "height": 854
        },
        "outputId": "03c53d2e-0ab7-47a3-9996-416233a48d7b"
      },
      "execution_count": null,
      "outputs": [
        {
          "output_type": "execute_result",
          "data": {
            "application/vnd.google.colaboratory.intrinsic+json": {
              "type": "string"
            },
            "text/plain": [
              "'SOCCER - JAPAN GET LUCKY WIN , CHINA IN SURPRISE DEFEAT .'"
            ]
          },
          "metadata": {},
          "execution_count": 36
        }
      ]
    },
    {
      "cell_type": "code",
      "source": [
        "#this are the respective NER Tags\n",
        "df.ner_tags.loc[0]"
      ],
      "metadata": {
        "id": "LP06Cqw1jBxp",
        "colab": {
          "base_uri": "https://localhost:8080/"
        },
        "outputId": "329f28d8-9c82-43d1-ed04-c570a3afa4c8"
      },
      "execution_count": null,
      "outputs": [
        {
          "output_type": "execute_result",
          "data": {
            "text/plain": [
              "[0, 0, 5, 0, 0, 0, 0, 5, 0, 0, 0, 0]"
            ]
          },
          "metadata": {},
          "execution_count": 37
        }
      ]
    },
    {
      "cell_type": "markdown",
      "source": [
        "## Tagging & Creation of gold standard"
      ],
      "metadata": {
        "id": "hJTqHKTGjYM3"
      }
    },
    {
      "cell_type": "code",
      "source": [
        "#needed dictionary for the following conversion\n",
        "ner_tags = {'O': 0, 'B-PER': 1, 'I-PER': 2, 'B-ORG': 3, 'I-ORG': 4, 'B-LOC': 5, 'I-LOC': 6, 'B-MISC': 7, 'I-MISC': 8}"
      ],
      "metadata": {
        "id": "uEXvQjN9iil_"
      },
      "execution_count": null,
      "outputs": []
    },
    {
      "cell_type": "code",
      "source": [
        "#return keys, values from dictionary\n",
        "def reverse(dictionary: Dict)->Dict:\n",
        "  return {v:k for k,v in dictionary.items()}\n",
        "\n",
        "#conversion\n",
        "def ner_tags_to_gold_standard(ner_tags: List[int], ner_tags_map=ner_tags)->List[str]:\n",
        "  reversed_ner_tags = reverse(ner_tags_map)\n",
        "  #values 7 and 8 are excluded\n",
        "  return [reversed_ner_tags.get(element) if ((element !=7) and (element !=8)) else 'O' for element in ner_tags]\n"
      ],
      "metadata": {
        "id": "6M7alI3niioo"
      },
      "execution_count": null,
      "outputs": []
    },
    {
      "cell_type": "code",
      "source": [
        "#creation of gold_standard column\n",
        "df['gold_standard'] = df.ner_tags.apply(ner_tags_to_gold_standard)\n",
        "df.head(9)"
      ],
      "metadata": {
        "id": "SHHL24OUiiql",
        "colab": {
          "base_uri": "https://localhost:8080/"
        },
        "outputId": "d42d259f-cbff-4137-92f3-dcf4cbab7d88"
      },
      "execution_count": null,
      "outputs": [
        {
          "output_type": "execute_result",
          "data": {
            "text/html": [
              "\n",
              "  <div id=\"df-0b984796-c590-4b24-951a-d0c0e3af0c3c\">\n",
              "    <div class=\"colab-df-container\">\n",
              "      <div>\n",
              "<style scoped>\n",
              "    .dataframe tbody tr th:only-of-type {\n",
              "        vertical-align: middle;\n",
              "    }\n",
              "\n",
              "    .dataframe tbody tr th {\n",
              "        vertical-align: top;\n",
              "    }\n",
              "\n",
              "    .dataframe thead th {\n",
              "        text-align: right;\n",
              "    }\n",
              "</style>\n",
              "<table border=\"1\" class=\"dataframe\">\n",
              "  <thead>\n",
              "    <tr style=\"text-align: right;\">\n",
              "      <th></th>\n",
              "      <th>tokens</th>\n",
              "      <th>ner_tags</th>\n",
              "      <th>gold_standard</th>\n",
              "    </tr>\n",
              "  </thead>\n",
              "  <tbody>\n",
              "    <tr>\n",
              "      <th>0</th>\n",
              "      <td>[SOCCER, -, JAPAN, GET, LUCKY, WIN, ,, CHINA, ...</td>\n",
              "      <td>[0, 0, 5, 0, 0, 0, 0, 5, 0, 0, 0, 0]</td>\n",
              "      <td>[O, O, B-LOC, O, O, O, O, B-LOC, O, O, O, O]</td>\n",
              "    </tr>\n",
              "    <tr>\n",
              "      <th>1</th>\n",
              "      <td>[Nadim, Ladki]</td>\n",
              "      <td>[1, 2]</td>\n",
              "      <td>[B-PER, I-PER]</td>\n",
              "    </tr>\n",
              "    <tr>\n",
              "      <th>2</th>\n",
              "      <td>[AL-AIN, ,, United, Arab, Emirates, 1996-12-06]</td>\n",
              "      <td>[5, 0, 5, 6, 6, 0]</td>\n",
              "      <td>[B-LOC, O, B-LOC, I-LOC, I-LOC, O]</td>\n",
              "    </tr>\n",
              "    <tr>\n",
              "      <th>3</th>\n",
              "      <td>[Japan, began, the, defence, of, their, Asian,...</td>\n",
              "      <td>[5, 0, 0, 0, 0, 0, 7, 8, 0, 0, 0, 0, 0, 0, 0, ...</td>\n",
              "      <td>[B-LOC, O, O, O, O, O, O, O, O, O, O, O, O, O,...</td>\n",
              "    </tr>\n",
              "    <tr>\n",
              "      <th>4</th>\n",
              "      <td>[But, China, saw, their, luck, desert, them, i...</td>\n",
              "      <td>[0, 5, 0, 0, 0, 0, 0, 0, 0, 0, 0, 0, 0, 0, 0, ...</td>\n",
              "      <td>[O, B-LOC, O, O, O, O, O, O, O, O, O, O, O, O,...</td>\n",
              "    </tr>\n",
              "    <tr>\n",
              "      <th>5</th>\n",
              "      <td>[China, controlled, most, of, the, match, and,...</td>\n",
              "      <td>[5, 0, 0, 0, 0, 0, 0, 0, 0, 0, 0, 0, 0, 0, 0, ...</td>\n",
              "      <td>[B-LOC, O, O, O, O, O, O, O, O, O, O, O, O, O,...</td>\n",
              "    </tr>\n",
              "    <tr>\n",
              "      <th>6</th>\n",
              "      <td>[Oleg, Shatskiku, made, sure, of, the, win, in...</td>\n",
              "      <td>[1, 2, 0, 0, 0, 0, 0, 0, 0, 0, 0, 0, 0, 0, 0, ...</td>\n",
              "      <td>[B-PER, I-PER, O, O, O, O, O, O, O, O, O, O, O...</td>\n",
              "    </tr>\n",
              "    <tr>\n",
              "      <th>7</th>\n",
              "      <td>[The, former, Soviet, republic, was, playing, ...</td>\n",
              "      <td>[0, 0, 7, 0, 0, 0, 0, 0, 7, 8, 0, 0, 0, 0, 0, ...</td>\n",
              "      <td>[O, O, O, O, O, O, O, O, O, O, O, O, O, O, O, ...</td>\n",
              "    </tr>\n",
              "    <tr>\n",
              "      <th>8</th>\n",
              "      <td>[Despite, winning, the, Asian, Games, title, t...</td>\n",
              "      <td>[0, 0, 0, 7, 8, 0, 0, 0, 0, 0, 5, 0, 0, 0, 0, ...</td>\n",
              "      <td>[O, O, O, O, O, O, O, O, O, O, B-LOC, O, O, O,...</td>\n",
              "    </tr>\n",
              "  </tbody>\n",
              "</table>\n",
              "</div>\n",
              "      <button class=\"colab-df-convert\" onclick=\"convertToInteractive('df-0b984796-c590-4b24-951a-d0c0e3af0c3c')\"\n",
              "              title=\"Convert this dataframe to an interactive table.\"\n",
              "              style=\"display:none;\">\n",
              "        \n",
              "  <svg xmlns=\"http://www.w3.org/2000/svg\" height=\"24px\"viewBox=\"0 0 24 24\"\n",
              "       width=\"24px\">\n",
              "    <path d=\"M0 0h24v24H0V0z\" fill=\"none\"/>\n",
              "    <path d=\"M18.56 5.44l.94 2.06.94-2.06 2.06-.94-2.06-.94-.94-2.06-.94 2.06-2.06.94zm-11 1L8.5 8.5l.94-2.06 2.06-.94-2.06-.94L8.5 2.5l-.94 2.06-2.06.94zm10 10l.94 2.06.94-2.06 2.06-.94-2.06-.94-.94-2.06-.94 2.06-2.06.94z\"/><path d=\"M17.41 7.96l-1.37-1.37c-.4-.4-.92-.59-1.43-.59-.52 0-1.04.2-1.43.59L10.3 9.45l-7.72 7.72c-.78.78-.78 2.05 0 2.83L4 21.41c.39.39.9.59 1.41.59.51 0 1.02-.2 1.41-.59l7.78-7.78 2.81-2.81c.8-.78.8-2.07 0-2.86zM5.41 20L4 18.59l7.72-7.72 1.47 1.35L5.41 20z\"/>\n",
              "  </svg>\n",
              "      </button>\n",
              "      \n",
              "  <style>\n",
              "    .colab-df-container {\n",
              "      display:flex;\n",
              "      flex-wrap:wrap;\n",
              "      gap: 12px;\n",
              "    }\n",
              "\n",
              "    .colab-df-convert {\n",
              "      background-color: #E8F0FE;\n",
              "      border: none;\n",
              "      border-radius: 50%;\n",
              "      cursor: pointer;\n",
              "      display: none;\n",
              "      fill: #1967D2;\n",
              "      height: 32px;\n",
              "      padding: 0 0 0 0;\n",
              "      width: 32px;\n",
              "    }\n",
              "\n",
              "    .colab-df-convert:hover {\n",
              "      background-color: #E2EBFA;\n",
              "      box-shadow: 0px 1px 2px rgba(60, 64, 67, 0.3), 0px 1px 3px 1px rgba(60, 64, 67, 0.15);\n",
              "      fill: #174EA6;\n",
              "    }\n",
              "\n",
              "    [theme=dark] .colab-df-convert {\n",
              "      background-color: #3B4455;\n",
              "      fill: #D2E3FC;\n",
              "    }\n",
              "\n",
              "    [theme=dark] .colab-df-convert:hover {\n",
              "      background-color: #434B5C;\n",
              "      box-shadow: 0px 1px 3px 1px rgba(0, 0, 0, 0.15);\n",
              "      filter: drop-shadow(0px 1px 2px rgba(0, 0, 0, 0.3));\n",
              "      fill: #FFFFFF;\n",
              "    }\n",
              "  </style>\n",
              "\n",
              "      <script>\n",
              "        const buttonEl =\n",
              "          document.querySelector('#df-0b984796-c590-4b24-951a-d0c0e3af0c3c button.colab-df-convert');\n",
              "        buttonEl.style.display =\n",
              "          google.colab.kernel.accessAllowed ? 'block' : 'none';\n",
              "\n",
              "        async function convertToInteractive(key) {\n",
              "          const element = document.querySelector('#df-0b984796-c590-4b24-951a-d0c0e3af0c3c');\n",
              "          const dataTable =\n",
              "            await google.colab.kernel.invokeFunction('convertToInteractive',\n",
              "                                                     [key], {});\n",
              "          if (!dataTable) return;\n",
              "\n",
              "          const docLinkHtml = 'Like what you see? Visit the ' +\n",
              "            '<a target=\"_blank\" href=https://colab.research.google.com/notebooks/data_table.ipynb>data table notebook</a>'\n",
              "            + ' to learn more about interactive tables.';\n",
              "          element.innerHTML = '';\n",
              "          dataTable['output_type'] = 'display_data';\n",
              "          await google.colab.output.renderOutput(dataTable, element);\n",
              "          const docLink = document.createElement('div');\n",
              "          docLink.innerHTML = docLinkHtml;\n",
              "          element.appendChild(docLink);\n",
              "        }\n",
              "      </script>\n",
              "    </div>\n",
              "  </div>\n",
              "  "
            ],
            "text/plain": [
              "                                              tokens  ...                                      gold_standard\n",
              "0  [SOCCER, -, JAPAN, GET, LUCKY, WIN, ,, CHINA, ...  ...       [O, O, B-LOC, O, O, O, O, B-LOC, O, O, O, O]\n",
              "1                                     [Nadim, Ladki]  ...                                     [B-PER, I-PER]\n",
              "2    [AL-AIN, ,, United, Arab, Emirates, 1996-12-06]  ...                 [B-LOC, O, B-LOC, I-LOC, I-LOC, O]\n",
              "3  [Japan, began, the, defence, of, their, Asian,...  ...  [B-LOC, O, O, O, O, O, O, O, O, O, O, O, O, O,...\n",
              "4  [But, China, saw, their, luck, desert, them, i...  ...  [O, B-LOC, O, O, O, O, O, O, O, O, O, O, O, O,...\n",
              "5  [China, controlled, most, of, the, match, and,...  ...  [B-LOC, O, O, O, O, O, O, O, O, O, O, O, O, O,...\n",
              "6  [Oleg, Shatskiku, made, sure, of, the, win, in...  ...  [B-PER, I-PER, O, O, O, O, O, O, O, O, O, O, O...\n",
              "7  [The, former, Soviet, republic, was, playing, ...  ...  [O, O, O, O, O, O, O, O, O, O, O, O, O, O, O, ...\n",
              "8  [Despite, winning, the, Asian, Games, title, t...  ...  [O, O, O, O, O, O, O, O, O, O, B-LOC, O, O, O,...\n",
              "\n",
              "[9 rows x 3 columns]"
            ]
          },
          "metadata": {},
          "execution_count": 40
        }
      ]
    },
    {
      "cell_type": "code",
      "source": [
        "#example \n",
        "print(df.iloc[0].tokens[:10])\n",
        "print(df.iloc[0].ner_tags[:10])\n",
        "print(ner_tags_to_gold_standard(df.iloc[0].ner_tags)[:10])"
      ],
      "metadata": {
        "id": "o4gdhsOqiiuY",
        "colab": {
          "base_uri": "https://localhost:8080/"
        },
        "outputId": "b4bfba8e-9ab5-41d5-95e6-f3c5786cf098"
      },
      "execution_count": null,
      "outputs": [
        {
          "output_type": "stream",
          "name": "stdout",
          "text": [
            "['SOCCER', '-', 'JAPAN', 'GET', 'LUCKY', 'WIN', ',', 'CHINA', 'IN', 'SURPRISE']\n",
            "[0, 0, 5, 0, 0, 0, 0, 5, 0, 0]\n",
            "['O', 'O', 'B-LOC', 'O', 'O', 'O', 'O', 'B-LOC', 'O', 'O']\n"
          ]
        }
      ]
    },
    {
      "cell_type": "markdown",
      "source": [
        "## Out-of-the-box model for NER"
      ],
      "metadata": {
        "id": "PFyYybwciMNv"
      }
    },
    {
      "cell_type": "markdown",
      "source": [
        "### First example"
      ],
      "metadata": {
        "id": "44LYXZ0sc1Im"
      }
    },
    {
      "cell_type": "code",
      "source": [
        "# first example for NER\n",
        "text = 'I am Lukas from Lucerne and I study at Hochschule Luzern.'\n",
        "\n",
        "nlp = spacy.load(\"en_core_web_sm\")\n",
        "doc = nlp(text)\n",
        "doc"
      ],
      "metadata": {
        "id": "GQQr4YSFiT7f",
        "colab": {
          "base_uri": "https://localhost:8080/"
        },
        "outputId": "9244ffc0-901c-4425-fea2-497df1711915"
      },
      "execution_count": null,
      "outputs": [
        {
          "output_type": "execute_result",
          "data": {
            "text/plain": [
              "I am Lukas from Lucerne and I study at Hochschule Luzern."
            ]
          },
          "metadata": {},
          "execution_count": 42
        }
      ]
    },
    {
      "cell_type": "code",
      "source": [
        "#returns NER Tags\n",
        "displacy.render(doc, style='ent', jupyter=True)"
      ],
      "metadata": {
        "id": "PCS7X4-_cj5u",
        "colab": {
          "base_uri": "https://localhost:8080/"
        },
        "outputId": "46d97a4e-8320-44e7-ea12-e4dd20aba359"
      },
      "execution_count": null,
      "outputs": [
        {
          "output_type": "display_data",
          "data": {
            "text/html": [
              "<span class=\"tex2jax_ignore\"><div class=\"entities\" style=\"line-height: 2.5; direction: ltr\">I am \n",
              "<mark class=\"entity\" style=\"background: #aa9cfc; padding: 0.45em 0.6em; margin: 0 0.25em; line-height: 1; border-radius: 0.35em;\">\n",
              "    Lukas\n",
              "    <span style=\"font-size: 0.8em; font-weight: bold; line-height: 1; border-radius: 0.35em; text-transform: uppercase; vertical-align: middle; margin-left: 0.5rem\">PERSON</span>\n",
              "</mark>\n",
              " from \n",
              "<mark class=\"entity\" style=\"background: #aa9cfc; padding: 0.45em 0.6em; margin: 0 0.25em; line-height: 1; border-radius: 0.35em;\">\n",
              "    Lucerne\n",
              "    <span style=\"font-size: 0.8em; font-weight: bold; line-height: 1; border-radius: 0.35em; text-transform: uppercase; vertical-align: middle; margin-left: 0.5rem\">PERSON</span>\n",
              "</mark>\n",
              " and I study at \n",
              "<mark class=\"entity\" style=\"background: #aa9cfc; padding: 0.45em 0.6em; margin: 0 0.25em; line-height: 1; border-radius: 0.35em;\">\n",
              "    Hochschule Luzern\n",
              "    <span style=\"font-size: 0.8em; font-weight: bold; line-height: 1; border-radius: 0.35em; text-transform: uppercase; vertical-align: middle; margin-left: 0.5rem\">PERSON</span>\n",
              "</mark>\n",
              ".</div></span>"
            ],
            "text/plain": [
              "<IPython.core.display.HTML object>"
            ]
          },
          "metadata": {}
        }
      ]
    },
    {
      "cell_type": "code",
      "source": [
        "#if something is unclear\n",
        "spacy.explain(\"GPE\")"
      ],
      "metadata": {
        "id": "4_yAztObdr4r",
        "colab": {
          "base_uri": "https://localhost:8080/"
        },
        "outputId": "bf8b7311-a6f7-4d0e-bd89-153e16e8af56"
      },
      "execution_count": null,
      "outputs": [
        {
          "output_type": "execute_result",
          "data": {
            "application/vnd.google.colaboratory.intrinsic+json": {
              "type": "string"
            },
            "text/plain": [
              "'Countries, cities, states'"
            ]
          },
          "metadata": {},
          "execution_count": 44
        }
      ]
    },
    {
      "cell_type": "code",
      "source": [
        "#different representation for NER Tags\n",
        "ents = [(e.text, e.start_char, e.end_char, e.label_) for e in doc.ents]\n",
        "print(ents)"
      ],
      "metadata": {
        "id": "lPkI_aBOiUDt",
        "colab": {
          "base_uri": "https://localhost:8080/"
        },
        "outputId": "91c61643-9eed-48d6-c0cb-494ec96153f0"
      },
      "execution_count": null,
      "outputs": [
        {
          "output_type": "stream",
          "name": "stdout",
          "text": [
            "[('Lukas', 5, 10, 'PERSON'), ('Lucerne', 16, 23, 'PERSON'), ('Hochschule Luzern', 39, 56, 'PERSON')]\n"
          ]
        }
      ]
    },
    {
      "cell_type": "markdown",
      "source": [
        "### Tagging"
      ],
      "metadata": {
        "id": "Mj6M-YM3eSYp"
      }
    },
    {
      "cell_type": "code",
      "source": [
        "Entity = namedtuple('Entity', 'entity_tokens label indexes')\n",
        "\n",
        "#retuns entities if they are 'PER', 'LOC', 'GPE' or 'ORG'\n",
        "def get_entities(text:str)->List[Entity]:\n",
        "  return [Entity(e.text.split(' '), e.label_, None) for e in nlp(text).ents if e.label_ in ['PER', 'LOC', 'GPE', 'ORG']]"
      ],
      "metadata": {
        "id": "yAwoWj0_jhau"
      },
      "execution_count": null,
      "outputs": []
    },
    {
      "cell_type": "code",
      "source": [
        "#example\n",
        "get_entities(' '.join(df.iloc[5].tokens))"
      ],
      "metadata": {
        "id": "p8h3_chzkL8f",
        "colab": {
          "base_uri": "https://localhost:8080/"
        },
        "outputId": "6e154894-a06e-4e61-8044-66cd86306eec"
      },
      "execution_count": null,
      "outputs": [
        {
          "output_type": "execute_result",
          "data": {
            "text/plain": [
              "[Entity(entity_tokens=['China'], label='GPE', indexes=None),\n",
              " Entity(entity_tokens=['Uzbek'], label='ORG', indexes=None)]"
            ]
          },
          "metadata": {},
          "execution_count": 47
        }
      ]
    },
    {
      "cell_type": "code",
      "source": [
        "#return indexes for each entity\n",
        "def get_entity_indexes(tokenized_text: List[str], tokenized_entities: List[Entity])->List[str]:\n",
        "  def _token_lists_equal(substr, text):\n",
        "    return len(substr) == len(text) and all(a == b for a, b in zip(substr, text))\n",
        "  \n",
        "  entity_indexes = []\n",
        "  for entity in tokenized_entities:\n",
        "    for start_index in range(len(tokenized_text) - len(entity.entity_tokens) + 1):\n",
        "      \n",
        "      if _token_lists_equal(entity.entity_tokens, tokenized_text[start_index: start_index + len(entity.entity_tokens)]):\n",
        "        entity = entity._replace(indexes = [ i for i in range(start_index, start_index + len(entity.entity_tokens))])\n",
        "        entity_indexes.append(entity)\n",
        "\n",
        "  return entity_indexes\n"
      ],
      "metadata": {
        "id": "754ljKrGkMBV"
      },
      "execution_count": null,
      "outputs": []
    },
    {
      "cell_type": "code",
      "source": [
        "#example\n",
        "example = get_entity_indexes(df.iloc[5].tokens, get_entities(' '.join(df.iloc[5].tokens)))\n",
        "example"
      ],
      "metadata": {
        "id": "K-TZpYaokMHJ",
        "colab": {
          "base_uri": "https://localhost:8080/"
        },
        "outputId": "d2160977-57c6-4a91-e3eb-94d6a11e4c93"
      },
      "execution_count": null,
      "outputs": [
        {
          "output_type": "execute_result",
          "data": {
            "text/plain": [
              "[Entity(entity_tokens=['China'], label='GPE', indexes=[0]),\n",
              " Entity(entity_tokens=['Uzbek'], label='ORG', indexes=[16])]"
            ]
          },
          "metadata": {},
          "execution_count": 49
        }
      ]
    },
    {
      "cell_type": "code",
      "source": [
        "#returns the IOB label\n",
        "def IOB(example, tokens):\n",
        "  result = ['O']*len(tokens)\n",
        "\n",
        "  for e in example:\n",
        "    if e.label == 'GPE':\n",
        "      e = e._replace(label='LOC')\n",
        " \n",
        "    if not e.indexes:\n",
        "      continue\n",
        "    \n",
        "    result[e.indexes[0]] = f'B-{e.label}'\n",
        "    if len(e.indexes) > 1:\n",
        "      for i in e.indexes[1:]:\n",
        "        result[i] = f'I-{e.label}'\n",
        "\n",
        "  return result"
      ],
      "metadata": {
        "id": "DW5ucWTVkMMd"
      },
      "execution_count": null,
      "outputs": []
    },
    {
      "cell_type": "code",
      "source": [
        "spacy_oob_pred = []\n",
        "for i,row in df.iterrows():\n",
        "\n",
        "  example = get_entity_indexes(row.tokens, get_entities(' '.join(row.tokens)))\n",
        "  spacy_oob_pred.append(IOB(example, row.tokens))\n",
        "\n",
        "df['spacy_oob_pred'] = spacy_oob_pred"
      ],
      "metadata": {
        "id": "7HSrfc97kv4Q"
      },
      "execution_count": null,
      "outputs": []
    },
    {
      "cell_type": "code",
      "source": [
        "df.head()"
      ],
      "metadata": {
        "id": "4DfRiIWCk7vt",
        "colab": {
          "base_uri": "https://localhost:8080/",
          "height": 319
        },
        "outputId": "9db726d3-4876-44d9-b583-0cd06c8e5ee3"
      },
      "execution_count": null,
      "outputs": [
        {
          "output_type": "execute_result",
          "data": {
            "text/html": [
              "\n",
              "  <div id=\"df-d586369c-e8e2-4bd0-8fc3-0acfcb048473\">\n",
              "    <div class=\"colab-df-container\">\n",
              "      <div>\n",
              "<style scoped>\n",
              "    .dataframe tbody tr th:only-of-type {\n",
              "        vertical-align: middle;\n",
              "    }\n",
              "\n",
              "    .dataframe tbody tr th {\n",
              "        vertical-align: top;\n",
              "    }\n",
              "\n",
              "    .dataframe thead th {\n",
              "        text-align: right;\n",
              "    }\n",
              "</style>\n",
              "<table border=\"1\" class=\"dataframe\">\n",
              "  <thead>\n",
              "    <tr style=\"text-align: right;\">\n",
              "      <th></th>\n",
              "      <th>tokens</th>\n",
              "      <th>ner_tags</th>\n",
              "      <th>gold_standard</th>\n",
              "      <th>spacy_oob_pred</th>\n",
              "    </tr>\n",
              "  </thead>\n",
              "  <tbody>\n",
              "    <tr>\n",
              "      <th>0</th>\n",
              "      <td>[SOCCER, -, JAPAN, GET, LUCKY, WIN, ,, CHINA, ...</td>\n",
              "      <td>[0, 0, 5, 0, 0, 0, 0, 5, 0, 0, 0, 0]</td>\n",
              "      <td>[O, O, B-LOC, O, O, O, O, B-LOC, O, O, O, O]</td>\n",
              "      <td>[O, O, O, O, O, B-ORG, O, B-LOC, O, O, O, O]</td>\n",
              "    </tr>\n",
              "    <tr>\n",
              "      <th>1</th>\n",
              "      <td>[Nadim, Ladki]</td>\n",
              "      <td>[1, 2]</td>\n",
              "      <td>[B-PER, I-PER]</td>\n",
              "      <td>[O, O]</td>\n",
              "    </tr>\n",
              "    <tr>\n",
              "      <th>2</th>\n",
              "      <td>[AL-AIN, ,, United, Arab, Emirates, 1996-12-06]</td>\n",
              "      <td>[5, 0, 5, 6, 6, 0]</td>\n",
              "      <td>[B-LOC, O, B-LOC, I-LOC, I-LOC, O]</td>\n",
              "      <td>[B-ORG, O, B-LOC, I-LOC, I-LOC, O]</td>\n",
              "    </tr>\n",
              "    <tr>\n",
              "      <th>3</th>\n",
              "      <td>[Japan, began, the, defence, of, their, Asian,...</td>\n",
              "      <td>[5, 0, 0, 0, 0, 0, 7, 8, 0, 0, 0, 0, 0, 0, 0, ...</td>\n",
              "      <td>[B-LOC, O, O, O, O, O, O, O, O, O, O, O, O, O,...</td>\n",
              "      <td>[B-LOC, O, O, O, O, O, O, O, O, O, O, O, O, O,...</td>\n",
              "    </tr>\n",
              "    <tr>\n",
              "      <th>4</th>\n",
              "      <td>[But, China, saw, their, luck, desert, them, i...</td>\n",
              "      <td>[0, 5, 0, 0, 0, 0, 0, 0, 0, 0, 0, 0, 0, 0, 0, ...</td>\n",
              "      <td>[O, B-LOC, O, O, O, O, O, O, O, O, O, O, O, O,...</td>\n",
              "      <td>[O, B-LOC, O, O, O, O, O, O, O, O, O, O, O, O,...</td>\n",
              "    </tr>\n",
              "  </tbody>\n",
              "</table>\n",
              "</div>\n",
              "      <button class=\"colab-df-convert\" onclick=\"convertToInteractive('df-d586369c-e8e2-4bd0-8fc3-0acfcb048473')\"\n",
              "              title=\"Convert this dataframe to an interactive table.\"\n",
              "              style=\"display:none;\">\n",
              "        \n",
              "  <svg xmlns=\"http://www.w3.org/2000/svg\" height=\"24px\"viewBox=\"0 0 24 24\"\n",
              "       width=\"24px\">\n",
              "    <path d=\"M0 0h24v24H0V0z\" fill=\"none\"/>\n",
              "    <path d=\"M18.56 5.44l.94 2.06.94-2.06 2.06-.94-2.06-.94-.94-2.06-.94 2.06-2.06.94zm-11 1L8.5 8.5l.94-2.06 2.06-.94-2.06-.94L8.5 2.5l-.94 2.06-2.06.94zm10 10l.94 2.06.94-2.06 2.06-.94-2.06-.94-.94-2.06-.94 2.06-2.06.94z\"/><path d=\"M17.41 7.96l-1.37-1.37c-.4-.4-.92-.59-1.43-.59-.52 0-1.04.2-1.43.59L10.3 9.45l-7.72 7.72c-.78.78-.78 2.05 0 2.83L4 21.41c.39.39.9.59 1.41.59.51 0 1.02-.2 1.41-.59l7.78-7.78 2.81-2.81c.8-.78.8-2.07 0-2.86zM5.41 20L4 18.59l7.72-7.72 1.47 1.35L5.41 20z\"/>\n",
              "  </svg>\n",
              "      </button>\n",
              "      \n",
              "  <style>\n",
              "    .colab-df-container {\n",
              "      display:flex;\n",
              "      flex-wrap:wrap;\n",
              "      gap: 12px;\n",
              "    }\n",
              "\n",
              "    .colab-df-convert {\n",
              "      background-color: #E8F0FE;\n",
              "      border: none;\n",
              "      border-radius: 50%;\n",
              "      cursor: pointer;\n",
              "      display: none;\n",
              "      fill: #1967D2;\n",
              "      height: 32px;\n",
              "      padding: 0 0 0 0;\n",
              "      width: 32px;\n",
              "    }\n",
              "\n",
              "    .colab-df-convert:hover {\n",
              "      background-color: #E2EBFA;\n",
              "      box-shadow: 0px 1px 2px rgba(60, 64, 67, 0.3), 0px 1px 3px 1px rgba(60, 64, 67, 0.15);\n",
              "      fill: #174EA6;\n",
              "    }\n",
              "\n",
              "    [theme=dark] .colab-df-convert {\n",
              "      background-color: #3B4455;\n",
              "      fill: #D2E3FC;\n",
              "    }\n",
              "\n",
              "    [theme=dark] .colab-df-convert:hover {\n",
              "      background-color: #434B5C;\n",
              "      box-shadow: 0px 1px 3px 1px rgba(0, 0, 0, 0.15);\n",
              "      filter: drop-shadow(0px 1px 2px rgba(0, 0, 0, 0.3));\n",
              "      fill: #FFFFFF;\n",
              "    }\n",
              "  </style>\n",
              "\n",
              "      <script>\n",
              "        const buttonEl =\n",
              "          document.querySelector('#df-d586369c-e8e2-4bd0-8fc3-0acfcb048473 button.colab-df-convert');\n",
              "        buttonEl.style.display =\n",
              "          google.colab.kernel.accessAllowed ? 'block' : 'none';\n",
              "\n",
              "        async function convertToInteractive(key) {\n",
              "          const element = document.querySelector('#df-d586369c-e8e2-4bd0-8fc3-0acfcb048473');\n",
              "          const dataTable =\n",
              "            await google.colab.kernel.invokeFunction('convertToInteractive',\n",
              "                                                     [key], {});\n",
              "          if (!dataTable) return;\n",
              "\n",
              "          const docLinkHtml = 'Like what you see? Visit the ' +\n",
              "            '<a target=\"_blank\" href=https://colab.research.google.com/notebooks/data_table.ipynb>data table notebook</a>'\n",
              "            + ' to learn more about interactive tables.';\n",
              "          element.innerHTML = '';\n",
              "          dataTable['output_type'] = 'display_data';\n",
              "          await google.colab.output.renderOutput(dataTable, element);\n",
              "          const docLink = document.createElement('div');\n",
              "          docLink.innerHTML = docLinkHtml;\n",
              "          element.appendChild(docLink);\n",
              "        }\n",
              "      </script>\n",
              "    </div>\n",
              "  </div>\n",
              "  "
            ],
            "text/plain": [
              "                                              tokens  ...                                     spacy_oob_pred\n",
              "0  [SOCCER, -, JAPAN, GET, LUCKY, WIN, ,, CHINA, ...  ...       [O, O, O, O, O, B-ORG, O, B-LOC, O, O, O, O]\n",
              "1                                     [Nadim, Ladki]  ...                                             [O, O]\n",
              "2    [AL-AIN, ,, United, Arab, Emirates, 1996-12-06]  ...                 [B-ORG, O, B-LOC, I-LOC, I-LOC, O]\n",
              "3  [Japan, began, the, defence, of, their, Asian,...  ...  [B-LOC, O, O, O, O, O, O, O, O, O, O, O, O, O,...\n",
              "4  [But, China, saw, their, luck, desert, them, i...  ...  [O, B-LOC, O, O, O, O, O, O, O, O, O, O, O, O,...\n",
              "\n",
              "[5 rows x 4 columns]"
            ]
          },
          "metadata": {},
          "execution_count": 52
        }
      ]
    },
    {
      "cell_type": "markdown",
      "source": [
        "## Evaluation"
      ],
      "metadata": {
        "id": "rgzcrg2_lEeQ"
      }
    },
    {
      "cell_type": "code",
      "source": [
        "#get the values (gold standard and the prediction)\n",
        "gold_standard = list(itertools.chain(*df.gold_standard.values))\n",
        "prediction  = list(itertools.chain(*df.spacy_oob_pred.values))"
      ],
      "metadata": {
        "id": "D91j7KkVk79o"
      },
      "execution_count": null,
      "outputs": []
    },
    {
      "cell_type": "code",
      "source": [
        "#for a quick comparison\n",
        "def counter():\n",
        "  gold_counter = Counter(gold_standard)\n",
        "  pred_counter = Counter(prediction)\n",
        "  print(gold_counter)\n",
        "  print(pred_counter)\n",
        "\n",
        "counter()"
      ],
      "metadata": {
        "id": "jTTJfwg346jr",
        "colab": {
          "base_uri": "https://localhost:8080/"
        },
        "outputId": "50ad440d-e2e0-4f52-d3bc-b00a5d54cb0c"
      },
      "execution_count": null,
      "outputs": [
        {
          "output_type": "stream",
          "name": "stdout",
          "text": [
            "Counter({'O': 39154, 'B-ORG': 1715, 'B-LOC': 1646, 'B-PER': 1618, 'I-PER': 1161, 'I-ORG': 882, 'I-LOC': 259})\n",
            "Counter({'O': 42594, 'B-LOC': 1518, 'B-ORG': 1075, 'I-ORG': 992, 'I-LOC': 256})\n"
          ]
        }
      ]
    },
    {
      "cell_type": "code",
      "source": [
        "#evaluation\n",
        "x = ['B-PER', 'I-PER', 'B-LOC', 'I-LOC', 'B-ORG', 'I-ORG']\n",
        "print(metrics.classification_report(gold_standard, prediction, labels=x))"
      ],
      "metadata": {
        "id": "REfrC1hxlMS4",
        "colab": {
          "base_uri": "https://localhost:8080/"
        },
        "outputId": "a886aeea-5490-438d-d354-e89b59302868"
      },
      "execution_count": null,
      "outputs": [
        {
          "output_type": "stream",
          "name": "stderr",
          "text": [
            "/usr/local/lib/python3.7/dist-packages/sklearn/metrics/_classification.py:1318: UndefinedMetricWarning: Precision and F-score are ill-defined and being set to 0.0 in labels with no predicted samples. Use `zero_division` parameter to control this behavior.\n",
            "  _warn_prf(average, modifier, msg_start, len(result))\n"
          ]
        },
        {
          "output_type": "stream",
          "name": "stdout",
          "text": [
            "              precision    recall  f1-score   support\n",
            "\n",
            "       B-PER       0.00      0.00      0.00      1618\n",
            "       I-PER       0.00      0.00      0.00      1161\n",
            "       B-LOC       0.80      0.73      0.76      1646\n",
            "       I-LOC       0.59      0.58      0.59       259\n",
            "       B-ORG       0.54      0.34      0.42      1715\n",
            "       I-ORG       0.48      0.54      0.51       882\n",
            "\n",
            "   micro avg       0.63      0.33      0.43      7281\n",
            "   macro avg       0.40      0.37      0.38      7281\n",
            "weighted avg       0.39      0.33      0.35      7281\n",
            "\n"
          ]
        },
        {
          "output_type": "stream",
          "name": "stderr",
          "text": [
            "/usr/local/lib/python3.7/dist-packages/sklearn/metrics/_classification.py:1318: UndefinedMetricWarning: Precision and F-score are ill-defined and being set to 0.0 in labels with no predicted samples. Use `zero_division` parameter to control this behavior.\n",
            "  _warn_prf(average, modifier, msg_start, len(result))\n",
            "/usr/local/lib/python3.7/dist-packages/sklearn/metrics/_classification.py:1318: UndefinedMetricWarning: Precision and F-score are ill-defined and being set to 0.0 in labels with no predicted samples. Use `zero_division` parameter to control this behavior.\n",
            "  _warn_prf(average, modifier, msg_start, len(result))\n"
          ]
        }
      ]
    },
    {
      "cell_type": "code",
      "source": [
        "#evaluation\n",
        "gold = df.gold_standard\n",
        "pred = df.spacy_oob_pred\n",
        "print(classification_report(gold, pred, scheme=IOB2))"
      ],
      "metadata": {
        "id": "ZazvIkqNlMWu",
        "colab": {
          "base_uri": "https://localhost:8080/"
        },
        "outputId": "c915dda1-2807-45b9-c540-790c1fd3136a"
      },
      "execution_count": null,
      "outputs": [
        {
          "output_type": "stream",
          "name": "stderr",
          "text": [
            "/usr/local/lib/python3.7/dist-packages/seqeval/metrics/v1.py:57: UndefinedMetricWarning: Precision and F-score are ill-defined and being set to 0.0 in labels with no predicted samples. Use `zero_division` parameter to control this behavior.\n",
            "  _warn_prf(average, modifier, msg_start, len(result))\n"
          ]
        },
        {
          "output_type": "stream",
          "name": "stdout",
          "text": [
            "              precision    recall  f1-score   support\n",
            "\n",
            "         LOC       0.79      0.73      0.76      1646\n",
            "         ORG       0.48      0.30      0.37      1715\n",
            "         PER       0.00      0.00      0.00      1618\n",
            "\n",
            "   micro avg       0.66      0.34      0.45      4979\n",
            "   macro avg       0.42      0.34      0.37      4979\n",
            "weighted avg       0.43      0.34      0.38      4979\n",
            "\n"
          ]
        }
      ]
    },
    {
      "cell_type": "markdown",
      "source": [
        "# Reflection"
      ],
      "metadata": {
        "id": "e8vfz6blwbB0"
      }
    },
    {
      "cell_type": "markdown",
      "source": [
        "This task was about detecting entities in a text. Using the Huggingface dataset, we were able to find entities within the tokens and compare them to the \"gold standard\". Finally, the model was evaluated and it became visible, that the model is not perfect. One reason could be that this an \"out-of-the-box model\" which has to be retrained for our special input data.\n",
        "\n",
        "I learned that NER can be helpful to understand the semantic meaning of a sentence."
      ],
      "metadata": {
        "id": "Hl_jtx0BwfDR"
      }
    }
  ]
}